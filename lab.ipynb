{
 "cells": [
  {
   "cell_type": "code",
   "execution_count": null,
   "id": "6625d509-ae17-49db-9095-b3d3cdcac98e",
   "metadata": {},
   "outputs": [],
   "source": [
    "#DAY 1"
   ]
  },
  {
   "cell_type": "code",
   "execution_count": 2,
   "id": "7db89000-eccd-4f6b-a9e2-939318e053f5",
   "metadata": {},
   "outputs": [
    {
     "name": "stdin",
     "output_type": "stream",
     "text": [
      " 1 0 1 0 1 02 3 0\n"
     ]
    },
    {
     "name": "stdout",
     "output_type": "stream",
     "text": [
      "[1, 1, 1, 2, 3, 0, 0, 0]\n"
     ]
    }
   ],
   "source": [
    "n = list(map(int , input().split()))\n",
    "for i in range(len(n)):\n",
    "    if n[i]==0:\n",
    "        a =n[i]\n",
    "        n.remove(a)\n",
    "        n.append(a)\n",
    "print(n)             "
   ]
  },
  {
   "cell_type": "code",
   "execution_count": 41,
   "id": "c8094b2e-3d09-41d0-9003-bd5c752777c4",
   "metadata": {},
   "outputs": [
    {
     "name": "stdin",
     "output_type": "stream",
     "text": [
      " 2 3 11 58 333 222 121 45454\n"
     ]
    },
    {
     "name": "stdout",
     "output_type": "stream",
     "text": [
      "[3, 11, 333, 121, 2, 222, 58, 45454]\n"
     ]
    }
   ],
   "source": [
    "n = list(map(int , input().split()))\n",
    "for i in range(len(n)):\n",
    "    if n[i] %2 ==0:\n",
    "        a =n[i]\n",
    "        n.remove(a)\n",
    "        n.append(a)\n",
    "print(n)             "
   ]
  },
  {
   "cell_type": "code",
   "execution_count": 7,
   "id": "9c521d73-6dc2-4c9c-bbff-6e128e7e3e95",
   "metadata": {},
   "outputs": [
    {
     "name": "stdin",
     "output_type": "stream",
     "text": [
      " 2145\n"
     ]
    },
    {
     "name": "stdout",
     "output_type": "stream",
     "text": [
      "12\n"
     ]
    }
   ],
   "source": [
    "n = int(input())\n",
    "s = 0\n",
    "while n!=0:\n",
    "    a = n%10\n",
    "    s += a\n",
    "    n = n//10\n",
    "print(s)"
   ]
  },
  {
   "cell_type": "code",
   "execution_count": 1,
   "id": "f5cad1c6-f4b7-4b46-8294-93fa541ed720",
   "metadata": {},
   "outputs": [
    {
     "name": "stdin",
     "output_type": "stream",
     "text": [
      " 232\n"
     ]
    },
    {
     "name": "stdout",
     "output_type": "stream",
     "text": [
      "7\n"
     ]
    }
   ],
   "source": [
    "n = int(input())\n",
    "sum = 0\n",
    "while n > 9:\n",
    "    n = str(n)\n",
    "    for i in n:\n",
    "        sum += int(i)\n",
    "    n = sum\n",
    "print(sum)"
   ]
  },
  {
   "cell_type": "code",
   "execution_count": 4,
   "id": "d3f25509-7b94-46b4-90fa-ef0fb1130a4e",
   "metadata": {},
   "outputs": [
    {
     "name": "stdin",
     "output_type": "stream",
     "text": [
      " 1 2 8 5 4\n"
     ]
    },
    {
     "name": "stdout",
     "output_type": "stream",
     "text": [
      "False\n"
     ]
    }
   ],
   "source": [
    "a = list(map(int, input().split()))\n",
    "for i in range(len(a)-1):\n",
    "    if a[i] > a[i+1]:\n",
    "        print(False)\n",
    "        break\n",
    "else :\n",
    "    print(True)"
   ]
  },
  {
   "cell_type": "code",
   "execution_count": 7,
   "id": "6998e2e4-97b5-4756-a81e-28aa039049a2",
   "metadata": {},
   "outputs": [
    {
     "name": "stdin",
     "output_type": "stream",
     "text": [
      " 23\n"
     ]
    },
    {
     "name": "stdout",
     "output_type": "stream",
     "text": [
      "[]\n"
     ]
    }
   ],
   "source": [
    "a = list(map(int, input().split()))\n",
    "res = []\n",
    "for i in a:\n",
    "    for i in res:\n",
    "        res.append(i)\n",
    "print(res)"
   ]
  },
  {
   "cell_type": "code",
   "execution_count": 26,
   "id": "93214f5a-7d47-4c1a-9de7-62ddccf3a54d",
   "metadata": {},
   "outputs": [
    {
     "name": "stdin",
     "output_type": "stream",
     "text": [
      " 2\n"
     ]
    },
    {
     "name": "stdout",
     "output_type": "stream",
     "text": [
      "True\n"
     ]
    }
   ],
   "source": [
    "n = int(input())\n",
    "count = 0\n",
    "for i in range(1,n//2):\n",
    "    if n % i+1 ==0:\n",
    "        count +=1\n",
    "        break\n",
    "if count == 1:\n",
    "    print(False)\n",
    "else :\n",
    "    print(True)"
   ]
  },
  {
   "cell_type": "code",
   "execution_count": 21,
   "id": "81387d46-b52c-4c97-9bcc-fd75fe4844e1",
   "metadata": {},
   "outputs": [
    {
     "name": "stdin",
     "output_type": "stream",
     "text": [
      " 282\n"
     ]
    },
    {
     "name": "stdout",
     "output_type": "stream",
     "text": [
      "4\n"
     ]
    }
   ],
   "source": [
    "# sum prime numbers in a given numbers\n",
    "n = int(input())\n",
    "sum = 0\n",
    "for i in str(n):\n",
    "    if i in \"2357\":\n",
    "        sum +=int(i)\n",
    "print(sum)"
   ]
  },
  {
   "cell_type": "code",
   "execution_count": 9,
   "id": "53c8076c-2ac3-431b-a826-38b8422d8138",
   "metadata": {},
   "outputs": [
    {
     "name": "stdin",
     "output_type": "stream",
     "text": [
      " abcd\n",
      " 2\n"
     ]
    },
    {
     "name": "stdout",
     "output_type": "stream",
     "text": [
      "cdab\n"
     ]
    }
   ],
   "source": [
    "#right rotation\n",
    "a = input()\n",
    "n = int(input())\n",
    "for _ in range(n%len(a)):\n",
    "     a= a[-1] + a[:-1]\n",
    "print(a)"
   ]
  },
  {
   "cell_type": "code",
   "execution_count": 10,
   "id": "fbfe20a1-886a-4589-a5df-8f91309a2f7d",
   "metadata": {},
   "outputs": [
    {
     "name": "stdin",
     "output_type": "stream",
     "text": [
      " acbd\n",
      " 2\n"
     ]
    },
    {
     "name": "stdout",
     "output_type": "stream",
     "text": [
      "bdac\n"
     ]
    }
   ],
   "source": [
    "#left rotation\n",
    "a = input()\n",
    "n = int(input())\n",
    "for _ in range(n%len(a)):\n",
    "     a= a[1:] + a[0]\n",
    "print(a)"
   ]
  },
  {
   "cell_type": "code",
   "execution_count": 15,
   "id": "c35617c7-2c2e-4c66-8378-10ee45d0c950",
   "metadata": {},
   "outputs": [
    {
     "name": "stdin",
     "output_type": "stream",
     "text": [
      " abc\n",
      " 2\n"
     ]
    },
    {
     "name": "stdout",
     "output_type": "stream",
     "text": [
      "bca\n"
     ]
    }
   ],
   "source": [
    "#right rotation\n",
    "a = input()\n",
    "n = int(input())\n",
    "n = n % len(a)\n",
    "a = a[-n:] + a[:-n]\n",
    "print(a)"
   ]
  },
  {
   "cell_type": "code",
   "execution_count": 16,
   "id": "c8b0cffd-1319-4eb4-b4d7-739c58e8fadc",
   "metadata": {},
   "outputs": [
    {
     "name": "stdin",
     "output_type": "stream",
     "text": [
      " abcd\n",
      " 2\n"
     ]
    },
    {
     "name": "stdout",
     "output_type": "stream",
     "text": [
      "cdab\n"
     ]
    }
   ],
   "source": [
    "#left rotation\n",
    "a = input()\n",
    "n = int(input())\n",
    "n = n % len(a)\n",
    "a = a[n:] + a[:n]\n",
    "print(a)"
   ]
  },
  {
   "cell_type": "code",
   "execution_count": 21,
   "id": "6f8b2cb0-78a9-45df-84ef-808acc0b00e2",
   "metadata": {},
   "outputs": [
    {
     "name": "stdin",
     "output_type": "stream",
     "text": [
      " 121\n"
     ]
    },
    {
     "name": "stdout",
     "output_type": "stream",
     "text": [
      "palindrmoe\n"
     ]
    }
   ],
   "source": [
    "a = input()\n",
    "if a == a[::-1]:\n",
    "    print(\"palindrmoe\")\n",
    "else :\n",
    "    print(\"not a Palindrome\")"
   ]
  },
  {
   "cell_type": "code",
   "execution_count": 20,
   "id": "decb7b3d-eedf-4a3c-aacc-789865131b1e",
   "metadata": {},
   "outputs": [
    {
     "name": "stdout",
     "output_type": "stream",
     "text": [
      "*      *      *\n",
      "*      *      *\n",
      "*      *      *\n"
     ]
    }
   ],
   "source": [
    "for i in range(3):\n",
    "    for j in range(2):\n",
    "        print(\"*\" ,end =\"      \")\n",
    "    print(\"*\")"
   ]
  },
  {
   "cell_type": "code",
   "execution_count": 33,
   "id": "fd9ad230-94e3-440a-9b71-14d7492d554d",
   "metadata": {},
   "outputs": [
    {
     "name": "stdout",
     "output_type": "stream",
     "text": [
      "*          *\n"
     ]
    }
   ],
   "source": [
    "n=6\n",
    "for i in range(0,n+1):\n",
    "    if i == 0 or i==n:\n",
    "        print(\"*\" , end=\"\")\n",
    "    else:\n",
    "            print(\" \", end=\" \")\n",
    "print()"
   ]
  },
  {
   "cell_type": "code",
   "execution_count": 34,
   "id": "21424dd7-3f33-4c66-9c9d-bffc9d0e77cc",
   "metadata": {},
   "outputs": [
    {
     "name": "stdout",
     "output_type": "stream",
     "text": [
      "* * * * * \n",
      "*       * \n",
      "*       * \n",
      "*       * \n",
      "* * * * * \n"
     ]
    }
   ],
   "source": [
    "#assignment\n",
    "n = 5\n",
    "for i in range(n):\n",
    "    for j in range(n):\n",
    "        if i == 0 or i == n - 1 or j == 0 or j == n - 1:\n",
    "            print(\"*\", end=\" \")\n",
    "        else:\n",
    "            print(\" \", end=\" \")\n",
    "    print()\n"
   ]
  },
  {
   "cell_type": "code",
   "execution_count": 40,
   "id": "d359b6d4-ab56-4e15-878a-49344793d188",
   "metadata": {},
   "outputs": [
    {
     "name": "stdin",
     "output_type": "stream",
     "text": [
      " completed\n"
     ]
    },
    {
     "name": "stdout",
     "output_type": "stream",
     "text": [
      "c\n",
      "co\n",
      "com\n",
      "comp\n",
      "compl\n",
      "comple\n",
      "complet\n",
      "complete\n",
      "completed\n"
     ]
    }
   ],
   "source": [
    "n = input()\n",
    "l =[]\n",
    "for i in n:\n",
    "    l.append(i)\n",
    "for j in range(1, len(n)+1 ,1):\n",
    "    for i in range(j):\n",
    "        print(l[i], end =\"\")\n",
    "    print()"
   ]
  },
  {
   "cell_type": "code",
   "execution_count": 39,
   "id": "bd91843d-06b7-4243-afdb-b4ec11807eb8",
   "metadata": {},
   "outputs": [
    {
     "name": "stdin",
     "output_type": "stream",
     "text": [
      " completed\n"
     ]
    },
    {
     "name": "stdout",
     "output_type": "stream",
     "text": [
      "completed\n",
      "complete\n",
      "complet\n",
      "comple\n",
      "compl\n",
      "comp\n",
      "com\n",
      "co\n",
      "c\n"
     ]
    }
   ],
   "source": [
    "n = input()\n",
    "l =[]\n",
    "for i in n:\n",
    "    l.append(i)\n",
    "for j in range(len(n),0, -1):\n",
    "    for i in range(j):\n",
    "        print(l[i], end =\"\")\n",
    "    print()"
   ]
  },
  {
   "cell_type": "code",
   "execution_count": 38,
   "id": "0b0433b7-ca7b-4de0-a766-6c7874e9fac9",
   "metadata": {},
   "outputs": [
    {
     "name": "stdin",
     "output_type": "stream",
     "text": [
      " hey\n"
     ]
    },
    {
     "name": "stdout",
     "output_type": "stream",
     "text": [
      "hey\n",
      "he\n",
      "h\n",
      "he\n",
      "hey\n"
     ]
    }
   ],
   "source": [
    "n = input()\n",
    "l =[]\n",
    "for i in n:\n",
    "    l.append(i)\n",
    "for j in range(len(n),0, -1):\n",
    "    for i in range(j):\n",
    "        print(l[i], end =\"\")\n",
    "    print()\n",
    "for j in range(2, len(n)+1 ,1):\n",
    "    for i in range(j):\n",
    "        print(l[i], end =\"\")\n",
    "    print()"
   ]
  },
  {
   "cell_type": "code",
   "execution_count": 35,
   "id": "0a04f382-f9b5-4885-9bc7-8283cb666e74",
   "metadata": {},
   "outputs": [
    {
     "name": "stdin",
     "output_type": "stream",
     "text": [
      " completed\n"
     ]
    },
    {
     "name": "stdout",
     "output_type": "stream",
     "text": [
      "\n",
      "c\n",
      "co\n",
      "com\n",
      "comp\n",
      "compl\n",
      "comple\n",
      "complet\n",
      "complete\n",
      "completed\n",
      "complete\n",
      "complet\n",
      "comple\n",
      "compl\n",
      "comp\n",
      "com\n",
      "co\n",
      "c\n"
     ]
    }
   ],
   "source": [
    "n = input()\n",
    "l =[]\n",
    "for i in n:\n",
    "    l.append(i)\n",
    "for j in range(0,len(n)):\n",
    "    for i in range(j):\n",
    "        print(l[i], end =\"\")\n",
    "    print()\n",
    "for j in range(len(n), 0 ,-1):\n",
    "    for i in range(j):\n",
    "        print(l[i], end =\"\")\n",
    "    print()"
   ]
  },
  {
   "cell_type": "code",
   "execution_count": 4,
   "id": "b938c1c2-430b-4a21-a2a1-7601b89f10b9",
   "metadata": {},
   "outputs": [
    {
     "name": "stdin",
     "output_type": "stream",
     "text": [
      " mani\n"
     ]
    },
    {
     "name": "stdout",
     "output_type": "stream",
     "text": [
      "\n",
      "m\n",
      "ma\n",
      "man\n",
      "mani\n",
      "man\n",
      "ma\n",
      "m\n"
     ]
    }
   ],
   "source": [
    "a=input()\n",
    "l=[]\n",
    "for i in a:\n",
    "    l.append(i)\n",
    "for i in range(0,len(l)):\n",
    "    for j in range(i):\n",
    "        print(l[j],end=\"\")\n",
    "    print()\n",
    "for i in range(len(l),0,-1):\n",
    "    for j in range(i):\n",
    "        print(l[j],end=\"\")\n",
    "    print()"
   ]
  },
  {
   "cell_type": "code",
   "execution_count": 24,
   "id": "55ea28e8-e22b-4f48-b28a-c940affbb2d3",
   "metadata": {},
   "outputs": [
    {
     "name": "stdin",
     "output_type": "stream",
     "text": [
      " 1a2b\n"
     ]
    },
    {
     "name": "stdout",
     "output_type": "stream",
     "text": [
      "a bb "
     ]
    }
   ],
   "source": [
    "#a = \"1a2c4b\"\n",
    "#accbbbb\n",
    "a=input()\n",
    "l=[]\n",
    "for i in a:\n",
    "    l.append(i)\n",
    "for i in range(len(l)):\n",
    "    if l[i].isdigit():\n",
    "        print(int(l[i])*l[i+1],end=\" \")"
   ]
  },
  {
   "cell_type": "code",
   "execution_count": 4,
   "id": "6046c5c8-4db9-4d9c-9f15-77c860fba9a7",
   "metadata": {},
   "outputs": [
    {
     "name": "stdin",
     "output_type": "stream",
     "text": [
      " 10a25c\n"
     ]
    },
    {
     "name": "stdout",
     "output_type": "stream",
     "text": [
      "aaaaaaaaaa ccccccccccccccccccccccccc "
     ]
    }
   ],
   "source": [
    "a = input()\n",
    "l = list(a)\n",
    "i = 0\n",
    "while i < len(l):\n",
    "    if l[i].isdigit():\n",
    "        r1 = 0\n",
    "        while l[i].isdigit() and i < len(l) :\n",
    "            r1 = r1 * 10 + int(l[i])\n",
    "            i += 1\n",
    "        if i < len(l):\n",
    "            print(l[i] * r1,end =\" \")\n",
    "            i += 1\n",
    "    else:\n",
    "        i += 1"
   ]
  },
  {
   "cell_type": "code",
   "execution_count": null,
   "id": "11b4fe33-0dfd-4544-8e41-d5ede8113498",
   "metadata": {},
   "outputs": [],
   "source": [
    "#DAY 2"
   ]
  },
  {
   "cell_type": "code",
   "execution_count": 7,
   "id": "94580fca-7790-4309-bf61-baec6c12e08d",
   "metadata": {},
   "outputs": [
    {
     "name": "stdout",
     "output_type": "stream",
     "text": [
      "set\n"
     ]
    }
   ],
   "source": [
    "#1 check the ith bit is set or reset\n",
    "def ex(value,index):\n",
    "    m=1<<index\n",
    "    m = 1<<index & value\n",
    "    if m==0:\n",
    "        print(\"reset\")\n",
    "    else:\n",
    "        print(\"set\")\n",
    "ex(5,2)"
   ]
  },
  {
   "cell_type": "code",
   "execution_count": null,
   "id": "0186e1ea-c626-4077-9a5f-f6a2c9258998",
   "metadata": {},
   "outputs": [],
   "source": [
    "# check the Ith bit is set or reset\n",
    "def ex(value,index):\n",
    "    if (1<<index & value)==0:\n",
    "        print(\"reset\")\n",
    "    else:\n",
    "        print(\"set\")\n",
    "ex(5,2)"
   ]
  },
  {
   "cell_type": "code",
   "execution_count": 8,
   "id": "81313a4a-130f-492e-b40d-3080bd875c24",
   "metadata": {},
   "outputs": [
    {
     "name": "stdout",
     "output_type": "stream",
     "text": [
      "set\n"
     ]
    }
   ],
   "source": [
    "# check the Ith bit is set or reset\n",
    "def ex(value,index):\n",
    "    l = 'reset' if (1<<index & value)==0 else 'set'i\n",
    "    print(l)\n",
    "ex(5,2)"
   ]
  },
  {
   "cell_type": "code",
   "execution_count": 11,
   "id": "135390d6-6ba6-41d0-a5db-c0067362f999",
   "metadata": {},
   "outputs": [
    {
     "name": "stdout",
     "output_type": "stream",
     "text": [
      "13\n"
     ]
    }
   ],
   "source": [
    "#2 set Ith bit\n",
    "def ex(value,index):\n",
    "    m = value | 1<<index\n",
    "    print(m)\n",
    "ex(5,3)"
   ]
  },
  {
   "cell_type": "code",
   "execution_count": 12,
   "id": "2835610d-c4fa-4483-b20f-bd0640bba587",
   "metadata": {},
   "outputs": [
    {
     "name": "stdout",
     "output_type": "stream",
     "text": [
      "13\n"
     ]
    }
   ],
   "source": [
    "# set Ith bit\n",
    "def ex(value,index):\n",
    "    print(value | 1<<index)\n",
    "ex(5,3)"
   ]
  },
  {
   "cell_type": "code",
   "execution_count": 18,
   "id": "22607edd-c10a-4244-87de-d00a14cbe263",
   "metadata": {},
   "outputs": [
    {
     "name": "stdout",
     "output_type": "stream",
     "text": [
      "0\n"
     ]
    }
   ],
   "source": [
    "#3 clear the Ith bit or reset the i th bit\n",
    "def ex(value,index):\n",
    "    m = ~(1<<index) & value\n",
    "    print(m)\n",
    "ex(8,3)"
   ]
  },
  {
   "cell_type": "code",
   "execution_count": 19,
   "id": "d12722a4-b45f-4ab9-82b6-04325f61a42f",
   "metadata": {},
   "outputs": [
    {
     "name": "stdout",
     "output_type": "stream",
     "text": [
      "0\n"
     ]
    }
   ],
   "source": [
    "# clear the ith bit or reset the i th bit\n",
    "def ex(value,index):\n",
    "    print(~(1<<index) & value)\n",
    "ex(8,3)"
   ]
  },
  {
   "cell_type": "code",
   "execution_count": 21,
   "id": "1a9e2b96-19e4-49dc-8a9c-6606b233bdb7",
   "metadata": {},
   "outputs": [
    {
     "name": "stdout",
     "output_type": "stream",
     "text": [
      "48\n"
     ]
    }
   ],
   "source": [
    "#4 remove all bits before Ith bit\n",
    "def ex(value,index):\n",
    "    m = (~0<<index) & value\n",
    "    print(m)\n",
    "ex(53,3)"
   ]
  },
  {
   "cell_type": "code",
   "execution_count": 24,
   "id": "ba005063-bb5b-4482-b55e-b04fbf87db5e",
   "metadata": {},
   "outputs": [
    {
     "name": "stdout",
     "output_type": "stream",
     "text": [
      "7\n"
     ]
    }
   ],
   "source": [
    "#5 flip Ith bit\n",
    "def ex(value,index):\n",
    "    m = (1<<index) ^ value\n",
    "    print(m)\n",
    "ex(5,1)"
   ]
  },
  {
   "cell_type": "code",
   "execution_count": 37,
   "id": "933ef7af-2e2b-4662-9479-a6a37fba866c",
   "metadata": {},
   "outputs": [
    {
     "name": "stdout",
     "output_type": "stream",
     "text": [
      "3\n"
     ]
    }
   ],
   "source": [
    "#6 length of the bit\n",
    "def ex(value):\n",
    "    count = 0\n",
    "    while value > 0:\n",
    "        value = value>>1\n",
    "        count+=1\n",
    "    print(count)\n",
    "ex(5)"
   ]
  },
  {
   "cell_type": "code",
   "execution_count": 1,
   "id": "46901f12-0dd0-4536-91dd-dcba6dbcf8b6",
   "metadata": {},
   "outputs": [
    {
     "name": "stdout",
     "output_type": "stream",
     "text": [
      "5\n"
     ]
    }
   ],
   "source": [
    "#7 remove all bits after Ith bit\n",
    "def ex(value,index):\n",
    "    m = 2**index -1\n",
    "    print(m & value)\n",
    "ex(53,3)"
   ]
  },
  {
   "cell_type": "code",
   "execution_count": 13,
   "id": "04dbe8b8-793f-4aef-9613-a2bb016b0cbe",
   "metadata": {},
   "outputs": [
    {
     "name": "stdout",
     "output_type": "stream",
     "text": [
      "1\n"
     ]
    }
   ],
   "source": [
    "# 8\n",
    "def clearfirst_bit(value, index):\n",
    "    m = 1<<index\n",
    "    m = m-1\n",
    "    res = value & m\n",
    "    print(res),\n",
    "clearfirst_bit(53,2)"
   ]
  },
  {
   "cell_type": "code",
   "execution_count": 8,
   "id": "51c369a7-2351-4f22-8b7e-2010de9cf20f",
   "metadata": {},
   "outputs": [
    {
     "name": "stdout",
     "output_type": "stream",
     "text": [
      "5\n"
     ]
    }
   ],
   "source": [
    "#9\n",
    "def clearlast_bit(value, index):\n",
    "    count = 0\n",
    "    temp = value\n",
    "    while temp > 0:\n",
    "        temp = temp>>1\n",
    "        count+=1\n",
    "    m = 1<<(count-index)\n",
    "    m = m-1 \n",
    "    res = value & m\n",
    "    print(res)\n",
    "clearlast_bit(53,2)"
   ]
  },
  {
   "cell_type": "code",
   "execution_count": 7,
   "id": "810547d7-b588-40a1-b8e9-c253dd9d5460",
   "metadata": {},
   "outputs": [
    {
     "name": "stdout",
     "output_type": "stream",
     "text": [
      "2\n"
     ]
    }
   ],
   "source": [
    "#10 count the no.of ones\n",
    "def count_set(value):\n",
    "    count = 0\n",
    "    while value:\n",
    "        if value & 1:\n",
    "            count += 1\n",
    "        value = value>>1\n",
    "    print(count)    \n",
    "count_set(5)"
   ]
  },
  {
   "cell_type": "code",
   "execution_count": 4,
   "id": "f770d865-6239-4540-b565-b56352c5ae9b",
   "metadata": {},
   "outputs": [
    {
     "name": "stdout",
     "output_type": "stream",
     "text": [
      "2\n"
     ]
    }
   ],
   "source": [
    "def count_set(value):\n",
    "    count = 0\n",
    "    while value:\n",
    "        count = count +(value&1)\n",
    "        value >>=1\n",
    "    print(count)\n",
    "count_set(5)"
   ]
  },
  {
   "cell_type": "code",
   "execution_count": 7,
   "id": "25fc5001-af74-4846-a735-7cb7da3c7ca8",
   "metadata": {},
   "outputs": [
    {
     "name": "stdout",
     "output_type": "stream",
     "text": [
      "0\n"
     ]
    }
   ],
   "source": [
    "#11 find the first one \n",
    "def ex(value):\n",
    "    count = 0\n",
    "    while value:\n",
    "        if value & 1:\n",
    "            break\n",
    "        value = value>>1\n",
    "        count += 1\n",
    "    print(count)    \n",
    "ex(15)"
   ]
  },
  {
   "cell_type": "code",
   "execution_count": 8,
   "id": "dd8e4a23-aff4-4ede-a331-546459cec8fc",
   "metadata": {},
   "outputs": [
    {
     "name": "stdout",
     "output_type": "stream",
     "text": [
      "0\n"
     ]
    }
   ],
   "source": [
    "def ex(value):\n",
    "    count = 0\n",
    "    while (value & 1 ==0):\n",
    "        value = value>>1\n",
    "        count+=1\n",
    "    print(count)    \n",
    "ex(15)"
   ]
  },
  {
   "cell_type": "code",
   "execution_count": 47,
   "id": "67ed50a4-06b5-458c-ba2c-99919a2289d2",
   "metadata": {},
   "outputs": [
    {
     "name": "stdout",
     "output_type": "stream",
     "text": [
      "4\n"
     ]
    }
   ],
   "source": [
    "#12 find the first zero\n",
    "def ex(value):\n",
    "    count = 0\n",
    "    while (value & 1 ==1):\n",
    "        value = value>>1\n",
    "        count+=1\n",
    "    print(count)    \n",
    "ex(15)"
   ]
  },
  {
   "cell_type": "code",
   "execution_count": 46,
   "id": "79eda74b-b8fa-4b12-9e1e-790f93688972",
   "metadata": {},
   "outputs": [
    {
     "name": "stdout",
     "output_type": "stream",
     "text": [
      "4\n"
     ]
    }
   ],
   "source": [
    "def ex(value):\n",
    "    count = 0\n",
    "    while value:\n",
    "        if value & 1 ==0:\n",
    "            break\n",
    "        value = value>>1\n",
    "        count += 1\n",
    "    print(count)    \n",
    "ex(15)"
   ]
  },
  {
   "cell_type": "code",
   "execution_count": 48,
   "id": "2e2d72c6-0411-44bc-a4f2-9707dce245a9",
   "metadata": {},
   "outputs": [
    {
     "name": "stdout",
     "output_type": "stream",
     "text": [
      "10 20\n",
      "20 10\n"
     ]
    }
   ],
   "source": [
    "#13 reverse with Xor\n",
    "a = 10\n",
    "b = 20\n",
    "print(a,b)\n",
    "a = a ^ b\n",
    "b = a ^ b\n",
    "a = a ^ b\n",
    "print(a,b)"
   ]
  },
  {
   "cell_type": "code",
   "execution_count": 52,
   "id": "2cb63098-f8aa-4bb2-8b05-274df8693564",
   "metadata": {},
   "outputs": [
    {
     "name": "stdout",
     "output_type": "stream",
     "text": [
      "odd\n"
     ]
    }
   ],
   "source": [
    "#14 given numbert is even or odd\n",
    "def ex(value):\n",
    "    print('even' if (1& value)==0 else 'odd')\n",
    "ex(5)"
   ]
  },
  {
   "cell_type": "code",
   "execution_count": 9,
   "id": "264bac85-dbb4-4773-8578-ed57aa7dd5ab",
   "metadata": {},
   "outputs": [
    {
     "name": "stdout",
     "output_type": "stream",
     "text": [
      "8\n"
     ]
    }
   ],
   "source": [
    "#15 find the unique number\n",
    "a=[1,8,9,8,5,7,9,9,5,7]\n",
    "res = a[0]\n",
    "for i in range(1,len(a)):\n",
    "    res = res ^ a[i]\n",
    "print(res)"
   ]
  },
  {
   "cell_type": "code",
   "execution_count": 11,
   "id": "d2ebc684-9778-4ff4-bc9e-84117f58fc03",
   "metadata": {},
   "outputs": [
    {
     "name": "stdout",
     "output_type": "stream",
     "text": [
      "8\n"
     ]
    }
   ],
   "source": [
    "#15 find the unique number\n",
    "a=[1,8,9,8,5,7,9,9,5,7]\n",
    "res = 0\n",
    "for i in a:\n",
    "    res = res ^ i\n",
    "print(res)"
   ]
  },
  {
   "cell_type": "code",
   "execution_count": 53,
   "id": "d3754100-6997-460e-82d5-951e32c13286",
   "metadata": {},
   "outputs": [
    {
     "name": "stdout",
     "output_type": "stream",
     "text": [
      "90\n"
     ]
    }
   ],
   "source": [
    "print(ord('Z'))"
   ]
  },
  {
   "cell_type": "code",
   "execution_count": 27,
   "id": "c064c5cb-b765-4f25-8c91-2c106542d7c6",
   "metadata": {},
   "outputs": [
    {
     "name": "stdout",
     "output_type": "stream",
     "text": [
      "\u0001\n"
     ]
    }
   ],
   "source": [
    "print(chr(1))"
   ]
  },
  {
   "cell_type": "code",
   "execution_count": 35,
   "id": "1130c816-ebc7-48ae-927c-bb9de4206adf",
   "metadata": {},
   "outputs": [
    {
     "name": "stdin",
     "output_type": "stream",
     "text": [
      " mango\n"
     ]
    },
    {
     "name": "stdout",
     "output_type": "stream",
     "text": [
      "50\n"
     ]
    }
   ],
   "source": [
    "a=input()\n",
    "sum=0\n",
    "for i in a:  \n",
    "    sum +=ord(i) -96\n",
    "print(sum)"
   ]
  },
  {
   "cell_type": "code",
   "execution_count": 6,
   "id": "5f1533f0-4e07-4ebe-a245-1e077aea9f58",
   "metadata": {},
   "outputs": [
    {
     "name": "stdout",
     "output_type": "stream",
     "text": [
      "a\n"
     ]
    }
   ],
   "source": [
    "print(chr(97))"
   ]
  },
  {
   "cell_type": "code",
   "execution_count": 62,
   "id": "bbb93025-9985-4d41-8a02-739072f8ec82",
   "metadata": {},
   "outputs": [
    {
     "name": "stdin",
     "output_type": "stream",
     "text": [
      " Mani\n"
     ]
    },
    {
     "name": "stdout",
     "output_type": "stream",
     "text": [
      "mANI"
     ]
    }
   ],
   "source": [
    "a=input()\n",
    "for i in a:\n",
    "    if ord(i) > 96:\n",
    "        s =  ord(i) - 32\n",
    "        c = chr(s) \n",
    "        print(c,end=\"\")\n",
    "    else:\n",
    "        s =  ord(i) + 32\n",
    "        c = chr(s) \n",
    "        print(c,end=\"\")"
   ]
  },
  {
   "cell_type": "code",
   "execution_count": 8,
   "id": "a0fd585a-a54d-4ea2-b38a-a4797867c884",
   "metadata": {},
   "outputs": [
    {
     "name": "stdin",
     "output_type": "stream",
     "text": [
      " abc\n",
      " ghk\n"
     ]
    },
    {
     "name": "stdout",
     "output_type": "stream",
     "text": [
      "agbhck"
     ]
    }
   ],
   "source": [
    "a = input()\n",
    "c= input()\n",
    "for i in range(0,len(a)): \n",
    "    print(a[i],end=\"\")\n",
    "    print(c[i],end=\"\")"
   ]
  },
  {
   "cell_type": "code",
   "execution_count": 2,
   "id": "a7c6142a-a52e-4137-a02d-97d51d0fc89c",
   "metadata": {},
   "outputs": [
    {
     "name": "stdin",
     "output_type": "stream",
     "text": [
      " abc\n",
      " k\n"
     ]
    },
    {
     "name": "stdout",
     "output_type": "stream",
     "text": [
      "akBC\n"
     ]
    }
   ],
   "source": [
    "a = input()\n",
    "c= input()\n",
    "res = \"\"\n",
    "i = 0\n",
    "while i<len(a) and i<len(c):\n",
    "    res += a[i]+c[i]\n",
    "    i+=1\n",
    "res +=a[i:].upper()\n",
    "res +=c[i:].upper()\n",
    "print(res)"
   ]
  },
  {
   "cell_type": "code",
   "execution_count": 22,
   "id": "01a3b895-fed1-4264-b90d-d118a82d2695",
   "metadata": {},
   "outputs": [
    {
     "name": "stdin",
     "output_type": "stream",
     "text": [
      " 9999\n"
     ]
    },
    {
     "name": "stdout",
     "output_type": "stream",
     "text": [
      "[10000]\n"
     ]
    }
   ],
   "source": [
    "a = list(map(int,input().split()))\n",
    "for i in range(len(a)-1,-1,-1):\n",
    "    if (a[i]+1) == 10:\n",
    "        a[i]=0\n",
    "    else:\n",
    "        a[i]+=1\n",
    "        break\n",
    "else:\n",
    "    a=[1] +a\n",
    "print(a)"
   ]
  },
  {
   "cell_type": "code",
   "execution_count": 12,
   "id": "444e1c68-071e-425f-92ed-5dd5451aeef8",
   "metadata": {},
   "outputs": [
    {
     "name": "stdout",
     "output_type": "stream",
     "text": [
      "3\n"
     ]
    }
   ],
   "source": [
    "#first one from left\n",
    "def ex(value):\n",
    "    c = value.bit_length() -1\n",
    "    m = 1<<c\n",
    "    if value & m == 2**c:\n",
    "        print(c)\n",
    "ex(15)"
   ]
  },
  {
   "cell_type": "code",
   "execution_count": 13,
   "id": "df1c43b0-3e13-421a-b762-dd0e36a689ef",
   "metadata": {},
   "outputs": [
    {
     "name": "stdout",
     "output_type": "stream",
     "text": [
      "3\n"
     ]
    }
   ],
   "source": [
    "#1 first one from left\n",
    "#assignment day 2\n",
    "def ex(value):\n",
    "    c = value.bit_length() -1\n",
    "    print(c)\n",
    "ex(15)"
   ]
  },
  {
   "cell_type": "code",
   "execution_count": 5,
   "id": "7cea63f9-f580-436d-9987-659f32e26bc0",
   "metadata": {},
   "outputs": [
    {
     "name": "stdout",
     "output_type": "stream",
     "text": [
      "1\n"
     ]
    }
   ],
   "source": [
    "#2 first zero from left\n",
    "#assignment day 2\n",
    "def ex(value):\n",
    "    c = value.bit_length() -1\n",
    "    for i in range(c):\n",
    "        m = 1<<c\n",
    "        if value & m == 2**c:\n",
    "            c-=1\n",
    "    else:\n",
    "        print(c)\n",
    "ex(5)"
   ]
  },
  {
   "cell_type": "code",
   "execution_count": 17,
   "id": "474e9cc7-4a50-4f62-bf39-5a111b2167fe",
   "metadata": {},
   "outputs": [
    {
     "name": "stdout",
     "output_type": "stream",
     "text": [
      "['a', 'b', 'c']\n"
     ]
    }
   ],
   "source": [
    "l =[]\n",
    "digits = '2'\n",
    "for i in digits:\n",
    "    for j in range(int(i)+1):\n",
    "        l.append(chr(97 + j))\n",
    "print(l)"
   ]
  },
  {
   "cell_type": "code",
   "execution_count": 1,
   "id": "a2c16754-3c0a-4f83-bf81-6d682564d6fb",
   "metadata": {},
   "outputs": [],
   "source": [
    "#Day3"
   ]
  },
  {
   "cell_type": "code",
   "execution_count": 12,
   "id": "91f92a14-c673-4afd-bd86-b593e99fdbda",
   "metadata": {},
   "outputs": [
    {
     "name": "stdout",
     "output_type": "stream",
     "text": [
      "5\n",
      "4\n",
      "3\n",
      "2\n",
      "1\n"
     ]
    }
   ],
   "source": [
    "#print n to 1\n",
    "n=5\n",
    "def pnt(n):\n",
    "    if n>0:\n",
    "        print(n)\n",
    "        pnt(n-1)\n",
    "pnt(n)"
   ]
  },
  {
   "cell_type": "code",
   "execution_count": 15,
   "id": "ac70b3fd-039c-484a-a1aa-8f6adf327312",
   "metadata": {},
   "outputs": [
    {
     "name": "stdout",
     "output_type": "stream",
     "text": [
      "1\n",
      "2\n",
      "3\n",
      "4\n",
      "5\n"
     ]
    }
   ],
   "source": [
    "#print 1 to n\n",
    "n=5\n",
    "def pnt(n):n=5\n",
    "def pnt(n):\n",
    "    if n>0:\n",
    "        pnt(n-1)\n",
    "        print(n)\n",
    "pnt(n)"
   ]
  },
  {
   "cell_type": "code",
   "execution_count": 17,
   "id": "604d963d-ee6f-4421-a469-bd971a185e3c",
   "metadata": {},
   "outputs": [
    {
     "name": "stdout",
     "output_type": "stream",
     "text": [
      "10\n",
      "8\n",
      "6\n",
      "4\n",
      "2\n"
     ]
    }
   ],
   "source": [
    "#print n to 1 even numbers\n",
    "n=10\n",
    "def pnt(n):\n",
    "    if n>0:\n",
    "        if n %2 ==0:\n",
    "            print(n)\n",
    "        pnt(n-1)\n",
    "pnt(n)"
   ]
  },
  {
   "cell_type": "code",
   "execution_count": 18,
   "id": "772e41c8-f21c-452c-95a4-1cfd85273e0e",
   "metadata": {},
   "outputs": [
    {
     "name": "stdout",
     "output_type": "stream",
     "text": [
      "9\n",
      "7\n",
      "5\n",
      "3\n",
      "1\n"
     ]
    }
   ],
   "source": [
    "#print n to 1 odd numbers\n",
    "n=10\n",
    "def pnt(n):\n",
    "    if n>0:\n",
    "        if n %2 !=0:\n",
    "            print(n)\n",
    "        pnt(n-1)\n",
    "pnt(n)"
   ]
  },
  {
   "cell_type": "code",
   "execution_count": 27,
   "id": "d23d2483-e3f4-437e-a8af-54ccb416d0c5",
   "metadata": {},
   "outputs": [
    {
     "name": "stdout",
     "output_type": "stream",
     "text": [
      "2\n",
      "4\n",
      "6\n",
      "8\n",
      "10\n"
     ]
    }
   ],
   "source": [
    "#print 1 to n even numbers\n",
    "n=10\n",
    "def pnt(n):\n",
    "    if n>0:\n",
    "        pnt(n-1)\n",
    "        if n %2 ==0:\n",
    "            print(n)\n",
    "pnt(n)"
   ]
  },
  {
   "cell_type": "code",
   "execution_count": 28,
   "id": "7cebca49-2111-4e07-a373-3cc627015ac2",
   "metadata": {},
   "outputs": [
    {
     "name": "stdout",
     "output_type": "stream",
     "text": [
      "1\n",
      "3\n",
      "5\n",
      "7\n",
      "9\n"
     ]
    }
   ],
   "source": [
    "#print 1 to n odd numbers\n",
    "n=10\n",
    "def pnt(n):n=5\n",
    "def pnt(n):\n",
    "    if n>0:\n",
    "        pnt(n-1)\n",
    "        if n %2 !=0:\n",
    "            print(n)\n",
    "pnt(n)"
   ]
  },
  {
   "cell_type": "code",
   "execution_count": 41,
   "id": "49e9fd42-86ef-4bad-83ba-8aca6aa4accd",
   "metadata": {},
   "outputs": [
    {
     "data": {
      "text/plain": [
       "10"
      ]
     },
     "execution_count": 41,
     "metadata": {},
     "output_type": "execute_result"
    }
   ],
   "source": [
    "#Sum of n Numbers\n",
    "n =4\n",
    "def pnt(n):\n",
    "    if n == 0:\n",
    "        return 0\n",
    "    return n + pnt(n-1)\n",
    "pnt(n)"
   ]
  },
  {
   "cell_type": "code",
   "execution_count": 42,
   "id": "a571e5b4-9e3a-4bdf-a5a8-485d5513ff46",
   "metadata": {},
   "outputs": [
    {
     "data": {
      "text/plain": [
       "3628800"
      ]
     },
     "execution_count": 42,
     "metadata": {},
     "output_type": "execute_result"
    }
   ],
   "source": [
    "#factorial program using recursion\n",
    "n =10\n",
    "def pnt(n):\n",
    "    if n == 0:\n",
    "        return 1\n",
    "    return n * pnt(n-1)\n",
    "pnt(n)"
   ]
  },
  {
   "cell_type": "code",
   "execution_count": 61,
   "id": "8c986df9-6df1-4b74-a75e-c42eb1fe7eb7",
   "metadata": {},
   "outputs": [
    {
     "data": {
      "text/plain": [
       "6"
      ]
     },
     "execution_count": 61,
     "metadata": {},
     "output_type": "execute_result"
    }
   ],
   "source": [
    "#sum of elments in list\n",
    "n =[1,2,3]\n",
    "def pnt(i,n,m):\n",
    "    if i == m:\n",
    "        return 0\n",
    "    return n[i] + pnt(i+1,n,m)\n",
    "pnt(0,n,len(n))"
   ]
  },
  {
   "cell_type": "code",
   "execution_count": 1,
   "id": "5ad7e1d4-d51b-485f-bd96-0bd48e0af055",
   "metadata": {},
   "outputs": [
    {
     "data": {
      "text/plain": [
       "'palidrome'"
      ]
     },
     "execution_count": 1,
     "metadata": {},
     "output_type": "execute_result"
    }
   ],
   "source": [
    "def p(l,n,r):\n",
    "    if l >=r:\n",
    "        return 'palidrome'\n",
    "    if n[l] != n[r]:\n",
    "        return 'not a palindrome'\n",
    "    return p(l+1,n,r-1)\n",
    "n = 'maam'\n",
    "p(0,n,len(n)-1)"
   ]
  },
  {
   "cell_type": "code",
   "execution_count": 3,
   "id": "65acd5ae-d8c5-46bb-9da5-3623048edff8",
   "metadata": {},
   "outputs": [
    {
     "data": {
      "text/plain": [
       "5"
      ]
     },
     "execution_count": 3,
     "metadata": {},
     "output_type": "execute_result"
    }
   ],
   "source": [
    "#min value in a list\n",
    "def p(i,n):\n",
    "    if i == len(n)-1:\n",
    "        return n[i]\n",
    "    min = p(i+1,n)\n",
    "    if n[i] < min:\n",
    "        return n[i]\n",
    "    else:\n",
    "        return min\n",
    "n = [5,6,8]\n",
    "p(0,n)"
   ]
  },
  {
   "cell_type": "code",
   "execution_count": 5,
   "id": "684af826-3120-432e-9a65-e760f8fd4dd9",
   "metadata": {},
   "outputs": [
    {
     "data": {
      "text/plain": [
       "8"
      ]
     },
     "execution_count": 5,
     "metadata": {},
     "output_type": "execute_result"
    }
   ],
   "source": [
    "#max value in a list\n",
    "def p(i,n):\n",
    "    if i == len(n)-1:\n",
    "        return n[i]\n",
    "    max = p(i+1,n)\n",
    "    if n[i] > max:\n",
    "        return n[i]\n",
    "    else:\n",
    "        return max\n",
    "n = [5,6,8]\n",
    "p(0,n)"
   ]
  },
  {
   "cell_type": "code",
   "execution_count": 46,
   "id": "42041f25-f4f3-4d6f-9b24-581f28272c9e",
   "metadata": {},
   "outputs": [
    {
     "data": {
      "text/plain": [
       "(8, 5)"
      ]
     },
     "execution_count": 46,
     "metadata": {},
     "output_type": "execute_result"
    }
   ],
   "source": [
    "#max value in a list\n",
    "def p(i,n):\n",
    "    if i == len(n)-1:\n",
    "        return n[i],n[i]\n",
    "    min,max= p(i+1,n)\n",
    "    min_value= n[i] if n[i] > min else  min\n",
    "    max_value = n[i] if n[i] < max else  max\n",
    "    return min_value , max_value\n",
    "n = [5,6,8]\n",
    "p(0,n)"
   ]
  },
  {
   "cell_type": "code",
   "execution_count": 31,
   "id": "d5f1a51f-009c-4884-808c-fd201d1d3dfa",
   "metadata": {},
   "outputs": [
    {
     "data": {
      "text/plain": [
       "15"
      ]
     },
     "execution_count": 31,
     "metadata": {},
     "output_type": "execute_result"
    }
   ],
   "source": [
    "def p(n):\n",
    "    if n <10:\n",
    "        return n\n",
    "    return n%10 + p(n//10)\n",
    "p(12345)"
   ]
  },
  {
   "cell_type": "code",
   "execution_count": 39,
   "id": "bb7374a5-f0f8-4326-8ce1-6f2d8dc5dc7b",
   "metadata": {},
   "outputs": [
    {
     "data": {
      "text/plain": [
       "5"
      ]
     },
     "execution_count": 39,
     "metadata": {},
     "output_type": "execute_result"
    }
   ],
   "source": [
    "# count the no of digits\n",
    "def p(n):\n",
    "    if n <10:\n",
    "        return 1\n",
    "    return 1+ p(n//10)\n",
    "p(12345)"
   ]
  },
  {
   "cell_type": "code",
   "execution_count": 69,
   "id": "2f7dc96b-8b6b-4895-abe3-0e01f4d4f59e",
   "metadata": {},
   "outputs": [
    {
     "data": {
      "text/plain": [
       "'sorted'"
      ]
     },
     "execution_count": 69,
     "metadata": {},
     "output_type": "execute_result"
    }
   ],
   "source": [
    "def p(i,n):\n",
    "    if i == len(n)-1:\n",
    "        return \"sorted\"\n",
    "    if n[i] > n[i+1]:\n",
    "        return \"unsorted\"\n",
    "    return p(i+1,n)\n",
    "n = [10,11,12]\n",
    "p(0,n)"
   ]
  },
  {
   "cell_type": "code",
   "execution_count": 2,
   "id": "4f660185-8f8d-4b73-8a89-fa2e123b54c3",
   "metadata": {},
   "outputs": [
    {
     "name": "stdout",
     "output_type": "stream",
     "text": [
      "move1 disk from A to C\n",
      "move 2 disk from A to B\n",
      "move1 disk from C to B\n",
      "move 3 disk from A to C\n",
      "move1 disk from B to A\n",
      "move 2 disk from B to C\n",
      "move1 disk from A to C\n"
     ]
    }
   ],
   "source": [
    "def p(n,s,t,d):\n",
    "    if n ==1:\n",
    "        print(f\"move{n} disk from {s} to {d}\")\n",
    "        return\n",
    "    p(n-1,s,d,t)\n",
    "    print(f\"move {n} disk from {s} to {d}\")\n",
    "    p(n-1,t,s,d)\n",
    "p(3,'A','B','C')"
   ]
  },
  {
   "cell_type": "code",
   "execution_count": 1,
   "id": "9a841ac0-8d5e-4752-ba68-bb2545f94c8a",
   "metadata": {},
   "outputs": [],
   "source": [
    "#Day 5"
   ]
  },
  {
   "cell_type": "code",
   "execution_count": 9,
   "id": "71a6ded8-f7e7-4108-b085-5b178ea7b24a",
   "metadata": {},
   "outputs": [
    {
     "name": "stdout",
     "output_type": "stream",
     "text": [
      "[2, 6, 1, 8, 9, 1, 1]\n",
      "[1, 1, 1, 2, 6, 8, 9]\n"
     ]
    }
   ],
   "source": [
    "#merge Sort\n",
    "n = [2,6,1,8,9,1,1]\n",
    "print(n)\n",
    "def merge_sort(n):\n",
    "    if len(n) > 1:\n",
    "        mid = len(n)//2\n",
    "        l = n[:mid]\n",
    "        r = n[mid:]\n",
    "        merge_sort(l)\n",
    "        merge_sort(r)\n",
    "        i,j,k=0,0,0\n",
    "        while i <len(l) and j < len(r):\n",
    "            if l[i] < r[j]:\n",
    "                n[k] = l[i]\n",
    "                i +=1\n",
    "            else :\n",
    "                n[k] = r[j]\n",
    "                j+=1\n",
    "                \n",
    "            k+=1\n",
    "        while i < len(l):\n",
    "            n[k] = l[i]\n",
    "            i+=1\n",
    "            k+=1\n",
    "        while j < len(r):\n",
    "            n[k] = r[j]\n",
    "            j+=1\n",
    "            k+=1\n",
    "merge_sort(n)   \n",
    "print(n)"
   ]
  },
  {
   "cell_type": "code",
   "execution_count": 5,
   "id": "f9fb0330-732a-48a2-b480-0ac4c1f6500b",
   "metadata": {},
   "outputs": [
    {
     "name": "stdout",
     "output_type": "stream",
     "text": [
      "Original array: [5, 4, 3, 2, 1]\n",
      "Sorted array: [1, 2, 3, 4, 5]\n",
      "Inversion count: 10\n"
     ]
    }
   ],
   "source": [
    "n = [5, 4, 3, 2, 1]\n",
    "\n",
    "def inversion(arr):\n",
    "    if len(arr) <= 1:\n",
    "        return 0, arr\n",
    "    \n",
    "    mid = len(arr) // 2\n",
    "    left_inv, left_sorted = inversion(arr[:mid])\n",
    "    right_inv, right_sorted = inversion(arr[mid:])\n",
    "    merge_inv, merged = merge_sort(left_sorted, right_sorted)\n",
    "    \n",
    "    return left_inv + right_inv + merge_inv, merged\n",
    "\n",
    "def merge_sort(left, right):\n",
    "    i, j = 0, 0\n",
    "    merged = []\n",
    "    inv_count = 0\n",
    "    \n",
    "    while i < len(left) and j < len(right):\n",
    "        if left[i] <= right[j]:\n",
    "            merged.append(left[i])\n",
    "            i += 1\n",
    "        else:\n",
    "            merged.append(right[j])\n",
    "            inv_count += len(left) - i   \n",
    "            j += 1\n",
    "    \n",
    "    merged.extend(left[i:])\n",
    "    merged.extend(right[j:])\n",
    "    \n",
    "    return inv_count, merged\n",
    "\n",
    "# Run\n",
    "count, sorted_arr = inversion(n)\n",
    "print(\"Original array:\", n)\n",
    "print(\"Sorted array:\", sorted_arr)\n",
    "print(\"Inversion count:\", count)"
   ]
  },
  {
   "cell_type": "code",
   "execution_count": 12,
   "id": "d43a5373-011a-4ead-8aeb-0e7ca137dfad",
   "metadata": {},
   "outputs": [
    {
     "name": "stdout",
     "output_type": "stream",
     "text": [
      "[5, 4, 3, 2, 1]\n",
      "[1, 2, 3, 4, 5]\n"
     ]
    }
   ],
   "source": [
    "#quick sort\n",
    "def partition(s,e,arr):\n",
    "    p = arr[e]\n",
    "    i =s\n",
    "    for j in range(s,e):\n",
    "        if arr[j]<p:\n",
    "            arr[i],arr[j] =arr[j],arr[i]\n",
    "            i+=1\n",
    "    arr[i],arr[e] = arr[e],arr[i]\n",
    "    return i\n",
    "def quick_sort_lomudo(s,e,arr):\n",
    "    if s<e:\n",
    "        pi = partition(s,e,arr)\n",
    "        ql =quick_sort_lomudo(s,pi-1,arr)\n",
    "        qr = quick_sort_lomudo(pi,e,arr)\n",
    "arr = [5, 4, 3, 2, 1]\n",
    "print(arr)\n",
    "quick_sort_lomudo(0,len(arr)-1,arr)\n",
    "print(arr)"
   ]
  },
  {
   "cell_type": "code",
   "execution_count": 18,
   "id": "2c25b8e8-0a9b-4892-96de-e521ddfa0480",
   "metadata": {},
   "outputs": [
    {
     "name": "stdout",
     "output_type": "stream",
     "text": [
      "[1, 2, 3, 4, 5]\n"
     ]
    }
   ],
   "source": [
    "#quick sort using 3 way partition\n",
    "def ex(s,e,n):\n",
    "    if s < e:\n",
    "        p = n[e]\n",
    "        lp = s\n",
    "        i = s\n",
    "        hp = e\n",
    "        while i < hp:\n",
    "            if n[i] > p:\n",
    "                n[i],n[hp] = n[hp],n[i]\n",
    "                hp-=1\n",
    "            elif n[i]<p:\n",
    "                n[i],n[lp] = n[lp],n[i]\n",
    "                lp+=1\n",
    "                i+=1\n",
    "            else:\n",
    "                i+=1\n",
    "        ex(s,lp-1,n) \n",
    "        ex(hp,e,n)\n",
    "n = [5, 4, 3, 2, 1]\n",
    "ex(0,len(n)-1,n)\n",
    "print(n)"
   ]
  },
  {
   "cell_type": "code",
   "execution_count": 1,
   "id": "d1e5a8e1-50d0-4766-aed4-0ba3ccae0b41",
   "metadata": {},
   "outputs": [],
   "source": [
    "#Day 8"
   ]
  },
  {
   "cell_type": "code",
   "execution_count": 11,
   "id": "728281ce-069b-4ce3-992e-37550dbb04d3",
   "metadata": {},
   "outputs": [
    {
     "name": "stdout",
     "output_type": "stream",
     "text": [
      "812\n"
     ]
    }
   ],
   "source": [
    "#Book Alocation\n",
    "def checker(max_cap,books,students):\n",
    "    cur_std, cur_cap = 1, books[0]\n",
    "    for book in books[1:]:\n",
    "        if book + cur_cap > max_cap:\n",
    "            cur_std +=1\n",
    "            cur_cap = book\n",
    "            if cur_std > students:\n",
    "                return False\n",
    "        else:\n",
    "            cur_cap +=book\n",
    "    return True\n",
    "def findPages(arr, k):\n",
    "    if len(arr)<k:\n",
    "        return -1\n",
    "    max , min  = sum(arr) , arr[-1]\n",
    "    l,r = min , max\n",
    "    ans = max\n",
    "    while l< r:\n",
    "        mid =(l+r) //2\n",
    "        if checker(mid , arr,k):\n",
    "            ans = mid\n",
    "            r = mid -1\n",
    "        else:\n",
    "            l = mid +1\n",
    "    return ans\n",
    "arr= [2, 5, 6 ,15 ,19 ,25 ,43 ,49 ,60 ,64 ,70 ,80 ,83 ,90 ,90 ,97,14]\n",
    "k = 1\n",
    "print(findPages(arr, k))"
   ]
  },
  {
   "cell_type": "code",
   "execution_count": 1,
   "id": "39b0cb31-e81c-466a-9801-7bb211c732e8",
   "metadata": {},
   "outputs": [
    {
     "data": {
      "text/plain": [
       "2"
      ]
     },
     "execution_count": 1,
     "metadata": {},
     "output_type": "execute_result"
    }
   ],
   "source": [
    "n=4\n",
    "def sqr(n):\n",
    "    l,r = 1,n\n",
    "    while l<=r:\n",
    "        mid =(l+r) //2\n",
    "        if mid*mid >= n:\n",
    "            ans = mid\n",
    "            r = mid-1\n",
    "        else:\n",
    "            l = mid +1\n",
    "    return ans\n",
    "sqr(n)"
   ]
  },
  {
   "cell_type": "code",
   "execution_count": 10,
   "id": "5fdcc5e3-1dbb-434e-b595-5b2903dbd1e5",
   "metadata": {},
   "outputs": [
    {
     "data": {
      "text/plain": [
       "3"
      ]
     },
     "execution_count": 10,
     "metadata": {},
     "output_type": "execute_result"
    }
   ],
   "source": [
    "#aggressive-cows\n",
    "stalls= [1, 2, 4, 8, 9]\n",
    "k = 3\n",
    "def check(max_dis, stalls,k):\n",
    "    cur_cow , last_cow = 1,stalls[0]\n",
    "    for dis in stalls[1:]:\n",
    "        if dis - last_cow >=max_dis:\n",
    "            cur_cow+=1\n",
    "            last_cow = dis\n",
    "            if cur_cow >= k:\n",
    "                return True\n",
    "    return False      \n",
    "def aggressiveCows(stalls, k):\n",
    "    l = 0\n",
    "    r = stalls[-1] - stalls[0]\n",
    "    ans =0\n",
    "    while l <= r :\n",
    "        mid = (l+r)//2\n",
    "        if check(mid,stalls,k):\n",
    "            ans = mid\n",
    "            l = mid+1\n",
    "        else:\n",
    "            r = mid-1\n",
    "    return ans\n",
    "aggressiveCows(stalls, k)         "
   ]
  },
  {
   "cell_type": "code",
   "execution_count": 10,
   "id": "6952bf84-53e4-4fe5-a0cf-9b9b5ead10a4",
   "metadata": {},
   "outputs": [
    {
     "data": {
      "text/plain": [
       "3"
      ]
     },
     "execution_count": 10,
     "metadata": {},
     "output_type": "execute_result"
    }
   ],
   "source": [
    "def aggressiveCows(stalls, k):\n",
    "    stalls=sorted(stalls)\n",
    "    l = 0\n",
    "    r = stalls[-1] - stalls[0]\n",
    "    ans =0\n",
    "    while l <= r :\n",
    "        mid = (l+r)//2\n",
    "        if check(mid,stalls,k):\n",
    "            ans = mid\n",
    "            l = mid+1\n",
    "        else:\n",
    "            r = mid-1\n",
    "    return ans\n",
    "def check(max_dis, stalls,k):\n",
    "    stalls=sorted(stalls)\n",
    "    cur_cow , last_cow = 1,stalls[0]\n",
    "    for dis in stalls[1:]:\n",
    "        if dis - last_cow >= max_dis:\n",
    "            cur_cow+=1\n",
    "            last_cow = dis\n",
    "            if cur_cow >= k:\n",
    "                return True\n",
    "    return False\n",
    "stalls= [6 ,4 ,3 ,16 ,20 ,7 ,18 ,10,5]\n",
    "k = 5\n",
    "aggressiveCows(stalls, k)   "
   ]
  },
  {
   "cell_type": "code",
   "execution_count": 11,
   "id": "d851c88e-98d8-40b1-b1c2-cdf2cdf3f6e8",
   "metadata": {},
   "outputs": [
    {
     "name": "stdout",
     "output_type": "stream",
     "text": [
      "3\n"
     ]
    }
   ],
   "source": [
    "def checker(max_distance,house, cows):\n",
    "    cow , last_cow=1,house[0]\n",
    "    for distance in house[1:]:\n",
    "        if distance -last_cow>=max_distance:\n",
    "            cow+=1\n",
    "            last_cow = distance\n",
    "            if cow >= cows:\n",
    "                return True\n",
    "    return False\n",
    "\n",
    "\n",
    "def aggressive(house ,cows):\n",
    "    house.sort()\n",
    "    l , r = 0, house[-1] - house[0]\n",
    "    while l<r:\n",
    "        mid = (l+r+1)//2\n",
    "        if checker(mid,house, cows):\n",
    "             l= mid\n",
    "        else: r = mid-1\n",
    "    return l\n",
    "\n",
    "\n",
    "house = [1,2,4,9,8]\n",
    "cows = 3\n",
    "res = aggressive(house , cows)\n",
    "print(res)\n"
   ]
  },
  {
   "cell_type": "code",
   "execution_count": 14,
   "id": "7594e628-b302-46ca-8f05-1afc73a8454f",
   "metadata": {},
   "outputs": [
    {
     "data": {
      "text/plain": [
       "30"
      ]
     },
     "execution_count": 14,
     "metadata": {},
     "output_type": "execute_result"
    }
   ],
   "source": [
    "import math\n",
    "def minEatingSpeed(piles, h):\n",
    "    l , r =1, max(piles)\n",
    "    while l<=r:\n",
    "        mid =(l+r)//2\n",
    "        if check(mid,piles,h):\n",
    "            ans = mid\n",
    "            r = mid-1\n",
    "        else:\n",
    "            l = mid+1\n",
    "    return ans\n",
    "def check(mid,piles,h):\n",
    "    hours =0\n",
    "    for b in piles:\n",
    "        hours+=math.ceil(b/mid)\n",
    "    if hours > h:\n",
    "        return False\n",
    "    else:\n",
    "        return True\n",
    "piles = [30,11,23,4,20]\n",
    "h = 5\n",
    "minEatingSpeed(piles, h)"
   ]
  },
  {
   "cell_type": "code",
   "execution_count": 1,
   "id": "012b82a1-5fc2-449a-976e-01ec08c8c226",
   "metadata": {},
   "outputs": [],
   "source": [
    "#Day9"
   ]
  },
  {
   "cell_type": "code",
   "execution_count": null,
   "id": "1fdef402-eaa8-48c5-8853-298222352eb8",
   "metadata": {},
   "outputs": [],
   "source": [
    "#Container With Most Water\n",
    "def findMin(nums):\n",
    "    for i in range(len(nums)):\n",
    "        "
   ]
  },
  {
   "cell_type": "code",
   "execution_count": null,
   "id": "d3da08b6-02f1-41c3-adb5-a469e9de53dc",
   "metadata": {},
   "outputs": [],
   "source": [
    "#traping Rain water\n",
    "def trap(height):\n",
    "    l, r = 0, len(height) - 1\n",
    "    max_l, max_r = height[l], height[r]\n",
    "    ans = 0\n",
    "\n",
    "    while l<= r:\n",
    "        while max_l <= max_r:\n",
    "            if max_l-height[l]<=0:\n",
    "                ans += 0\n",
    "            else :\n",
    "                ans += max_l -height[l]\n",
    "            max_l = max(height[l],max_l)\n",
    "        while max_l >= max_r:\n",
    "            if max_r-height[r]<=0:\n",
    "                ans+= 0\n",
    "            else :\n",
    "                ans += max_r -height[r]\n",
    "            max_r = max(height[r],max_r)\n",
    "        l+=1\n",
    "    return ans\n",
    "height = [0,1,0,2,1,0,1,3,2,1,2,1]\n",
    "trap(height)"
   ]
  },
  {
   "cell_type": "code",
   "execution_count": 1,
   "id": "98cb94b2-9063-4e3a-843d-aeeaba24f3dd",
   "metadata": {},
   "outputs": [
    {
     "name": "stdout",
     "output_type": "stream",
     "text": [
      "6\n"
     ]
    }
   ],
   "source": [
    "#traping Rain water\n",
    "def trap(height):\n",
    "    l, r = 0, len(height) - 1\n",
    "    max_l, max_r = height[l], height[r]\n",
    "    ans = 0\n",
    "    while l < r:\n",
    "        if max_l < max_r:\n",
    "            l += 1\n",
    "            max_l = max(max_l, height[l])\n",
    "            ans += max_l - height[l]\n",
    "        else:\n",
    "            r -= 1\n",
    "            max_r = max(max_r, height[r])\n",
    "            ans += max_r - height[r]\n",
    "    \n",
    "    return ans\n",
    "height = [0,1,0,2,1,0,1,3,2,1,2,1]\n",
    "print(trap(height)) \n"
   ]
  },
  {
   "cell_type": "code",
   "execution_count": 1,
   "id": "e15fde56-2180-4e12-a71b-95d47fc5e43c",
   "metadata": {},
   "outputs": [],
   "source": [
    "#Day 10"
   ]
  },
  {
   "cell_type": "code",
   "execution_count": 7,
   "id": "6a65973c-cc5b-4920-926f-cef9ca04fd1a",
   "metadata": {},
   "outputs": [
    {
     "name": "stdout",
     "output_type": "stream",
     "text": [
      "[5, 4, 3, 2, 1]\n"
     ]
    }
   ],
   "source": [
    "a = [1,2,3,4,5]\n",
    "l = 0\n",
    "r = len(a)-1\n",
    "while l<r:\n",
    "    a[l],a[r] = a[r],a[l]\n",
    "    l+=1\n",
    "    r-=1\n",
    "print(a)"
   ]
  },
  {
   "cell_type": "code",
   "execution_count": 2,
   "id": "6debce4e-f5c2-4841-b7d1-7a6421f9d4b3",
   "metadata": {},
   "outputs": [
    {
     "name": "stdout",
     "output_type": "stream",
     "text": [
      "None\n"
     ]
    }
   ],
   "source": [
    "def threeSum(nums):\n",
    "        nums = sorted(nums)\n",
    "        k ,l,r = 0,1,len(nums)-1\n",
    "        while k<(len(nums)-1):\n",
    "            while l<r:\n",
    "                if nums[k] + nums[l] + nums[r] ==0:\n",
    "                    return [nums[k] , nums[l] , nums[r]]\n",
    "                l+=1\n",
    "                r-=1\n",
    "            k+=1\n",
    "nums = [-1,0,1,2,-1,-4]\n",
    "print(threeSum(nums))"
   ]
  },
  {
   "cell_type": "code",
   "execution_count": 5,
   "id": "190a5788-faca-4453-ba37-3b6a4883cce4",
   "metadata": {},
   "outputs": [
    {
     "data": {
      "text/plain": [
       "[[-2, -1, 1, 2], [-1, -1, 1, 1]]"
      ]
     },
     "execution_count": 5,
     "metadata": {},
     "output_type": "execute_result"
    }
   ],
   "source": [
    "#4sum\n",
    "\n",
    "def fourSum(nums, target):\n",
    "    nums.sort()\n",
    "    res = []\n",
    "    n = len(nums)\n",
    "\n",
    "    for m in range(n-3):\n",
    "        if m > 0 and nums[m] == nums[m-1]:\n",
    "            continue \n",
    "        \n",
    "        for k in range(m+1, n-2):\n",
    "            if k > m+1 and nums[k] == nums[k-1]:\n",
    "                continue \n",
    "            \n",
    "            l, r = k + 1, n - 1\n",
    "            while l < r:\n",
    "                cur_sum = nums[m] + nums[k] + nums[l] + nums[r]\n",
    "                if cur_sum > target:\n",
    "                    r -= 1\n",
    "                elif cur_sum < target:\n",
    "                    l += 1\n",
    "                else:\n",
    "                    res.append([nums[m], nums[k], nums[l], nums[r]])\n",
    "                    l += 1\n",
    "                    while l < r and nums[l] == nums[l-1]:\n",
    "                        l += 1\n",
    "    return res\n",
    "nums = [-2,-1,-1,1,1,2,2]\n",
    "target = 0\n",
    "fourSum(nums, target)"
   ]
  },
  {
   "cell_type": "code",
   "execution_count": 7,
   "id": "f6a60424-d3ff-4ea3-a4db-54d440fe6a1f",
   "metadata": {},
   "outputs": [
    {
     "data": {
      "text/plain": [
       "3"
      ]
     },
     "execution_count": 7,
     "metadata": {},
     "output_type": "execute_result"
    }
   ],
   "source": [
    "# longest substring without duplicate characters\n",
    "def lengthOfLongestSubstring(s):\n",
    "    i,res=0,0\n",
    "    con = set()\n",
    "    for j in range(len(s)):\n",
    "        while s[j] in con:\n",
    "            con.remove(s[i])\n",
    "            i+=1\n",
    "        res = max(res,(j-i)+1)\n",
    "        con.add(s[j])\n",
    "    return res\n",
    "s = \"abcabcbb\"\n",
    "lengthOfLongestSubstring(s)            "
   ]
  },
  {
   "cell_type": "code",
   "execution_count": 9,
   "id": "a8b48d77-6866-469e-a544-5599840b581b",
   "metadata": {},
   "outputs": [
    {
     "data": {
      "text/plain": [
       "5"
      ]
     },
     "execution_count": 9,
     "metadata": {},
     "output_type": "execute_result"
    }
   ],
   "source": [
    "#best time to sell and buy stock\n",
    "def maxProfit(prices):\n",
    "    i ,res= 0,0\n",
    "    j = 1\n",
    "    while j < len(prices):\n",
    "        if prices[i]<prices[j]:\n",
    "            res = max(res,prices[j]-prices[i])\n",
    "        else:\n",
    "            i = j\n",
    "        j+=1\n",
    "    return res\n",
    "prices = [7,1,5,3,6,4]\n",
    "maxProfit(prices)"
   ]
  },
  {
   "cell_type": "code",
   "execution_count": null,
   "id": "bbb919e2-c26c-47e8-9673-9435c50d6a05",
   "metadata": {},
   "outputs": [],
   "source": [
    "#day 11"
   ]
  },
  {
   "cell_type": "code",
   "execution_count": 2,
   "id": "9de4de1d-9cfe-41cb-a1ca-e7fd83199f08",
   "metadata": {},
   "outputs": [
    {
     "data": {
      "text/plain": [
       "[['eat', 'tea', 'ate'], ['tan', 'nat'], ['bat']]"
      ]
     },
     "execution_count": 2,
     "metadata": {},
     "output_type": "execute_result"
    }
   ],
   "source": [
    "def groupAnagrams(strs):\n",
    "    dic = {}\n",
    "    for word in strs:\n",
    "        key = tuple(sorted(word))\n",
    "        if key not in dic:\n",
    "            dic[key] = []\n",
    "        dic[key].append(word)\n",
    "    return list(dic.values())\n",
    "strs = [\"eat\",\"tea\",\"tan\",\"ate\",\"nat\",\"bat\"]\n",
    "groupAnagrams(strs)"
   ]
  },
  {
   "cell_type": "code",
   "execution_count": 1,
   "id": "109f371b-10a4-4293-91f1-c8cfa1b65c03",
   "metadata": {},
   "outputs": [
    {
     "name": "stdout",
     "output_type": "stream",
     "text": [
      "1\n",
      "2\n",
      "3\n",
      "4\n"
     ]
    }
   ],
   "source": [
    "class node:\n",
    "    def __init__(self,data):\n",
    "        self.data=data\n",
    "        self.next=None\n",
    "class linkedlist:\n",
    "    def __init__(self):\n",
    "        self.head=None\n",
    "    def insert(self,data):\n",
    "        new_node=node(data)\n",
    "        if self.head is None:\n",
    "            self.head=new_node\n",
    "        else:\n",
    "            current_node = self.head\n",
    "            while current_node.next:\n",
    "                current_node = current_node.next\n",
    "            current_node.next = new_node\n",
    "\n",
    "linkedlist1 = linkedlist()\n",
    "linkedlist1.insert(1)\n",
    "linkedlist1.insert(2)\n",
    "linkedlist1.insert(3)\n",
    "linkedlist1.insert(4)\n",
    "print(linkedlist1.head.data)\n",
    "print(linkedlist1.head.next.data)\n",
    "print(linkedlist1.head.next.next.data)\n",
    "print(linkedlist1.head.next.next.next.data)"
   ]
  },
  {
   "cell_type": "code",
   "execution_count": 2,
   "id": "bab4fece-918e-4d3f-a079-4df00ed8a113",
   "metadata": {},
   "outputs": [
    {
     "name": "stdout",
     "output_type": "stream",
     "text": [
      "<__main__.linkedlist object at 0x00000262E8E023F0>\n"
     ]
    }
   ],
   "source": [
    "print(linkedlist1)"
   ]
  },
  {
   "cell_type": "code",
   "execution_count": 1,
   "id": "c519e739-5a39-40d0-9da7-35c1c92dc685",
   "metadata": {},
   "outputs": [],
   "source": [
    "class Node:\n",
    "    def __init__(self, data):   \n",
    "        self.data = data\n",
    "        self.next = None\n",
    "        self.prev = None        \n",
    "\n",
    "class DoubleLinkedList:\n",
    "    def __init__(self):         \n",
    "        self.head = None\n",
    "        self.tail = None\n",
    "\n",
    "    def insert(self, data):\n",
    "        new_node = Node(data)\n",
    "        if self.head is None:   \n",
    "            self.head = new_node\n",
    "            self.tail = new_node\n",
    "        else:\n",
    "            current_node = self.head\n",
    "            while current_node.next:   \n",
    "                current_node = current_node.next\n",
    "            current_node.next = new_node\n",
    "            new_node.prev = current_node \n",
    "            self.tail = new_node\n",
    "    def display(self):\n",
    "        current_node = self.head\n",
    "        while current_node:\n",
    "            print(current_node.data, end=\" <-> \")\n",
    "            current_node = current_node.next\n",
    "        print(\"None\")\n"
   ]
  },
  {
   "cell_type": "code",
   "execution_count": 2,
   "id": "99f1cf46-90ba-4f50-9ea5-56b925cd56ea",
   "metadata": {},
   "outputs": [
    {
     "name": "stdout",
     "output_type": "stream",
     "text": [
      "10 <-> 20 <-> 30 <-> 100 <-> None\n"
     ]
    }
   ],
   "source": [
    "dll = DoubleLinkedList()\n",
    "dll.insert(10)\n",
    "dll.insert(20)\n",
    "dll.insert(30)\n",
    "dll.insert(100)\n",
    "dll.display()\n"
   ]
  },
  {
   "cell_type": "code",
   "execution_count": 1,
   "id": "fad47f8d-d34f-47e4-8ad5-ae076a3316ce",
   "metadata": {},
   "outputs": [],
   "source": [
    "\n",
    "\n",
    "class Node:\n",
    "    def __init__(self,key,val):\n",
    "        self.key , self.val = key ,val\n",
    "        self.prev = self.next= None\n",
    "class LRUCache(object):\n",
    "\n",
    "    def __init__(self, capacity):\n",
    "        self.capacity = capacity\n",
    "        self.hash = {}\n",
    "\n",
    "        self.last , self.recent = Node(0,0) , Node(0,0)\n",
    "        self.last.next = self.recent\n",
    "        self.recent.prev = self.last\n",
    "        \n",
    "\n",
    "    def get(self, key):\n",
    "        if key in self.hash:\n",
    "            val = self.hash[key].val\n",
    "            self.delete(self.hash[key])\n",
    "            newnode = self.insert(key, val)\n",
    "            self.hash[key] =newnode\n",
    "            return val\n",
    "        return -1\n",
    "\n",
    "    \n",
    "    def insert(self,key,val):\n",
    "        newnode = Node(key,val)\n",
    "\n",
    "        self.recent.prev.next = newnode\n",
    "        newnode.prev = self.recent.prev\n",
    "        self.recent.prev = newnode\n",
    "        newnode.next = self.recent\n",
    "\n",
    "        return newnode\n",
    "\n",
    "\n",
    "\n",
    "\n",
    "    def delete(self, cur):\n",
    "        if cur:\n",
    "            \n",
    "            cur.prev.next = cur.next\n",
    "            cur.next.prev = cur.prev\n",
    "            cur.next = cur.prev = None\n",
    "            \n",
    "\n",
    "    def put(self, key, value):\n",
    "\n",
    "        if key in self.hash:\n",
    "            self.delete(self.hash[key])\n",
    "\n",
    "        newnode = self.insert(key,value)\n",
    "        self.hash[key] = newnode\n",
    "\n",
    "        if len(self.hash) > self.capacity:\n",
    "            last_key = self.last.next.key\n",
    "            self.delete(self.last.next)\n",
    "            del self.hash[last_key]\n",
    "\n",
    "        \n",
    "\n",
    "\n",
    "# Your LRUCache object will be instantiated and called as such:\n",
    "# obj = LRUCache(capacity)\n",
    "# param_1 = obj.get(key)\n",
    "# obj.put(key,value)"
   ]
  },
  {
   "cell_type": "code",
   "execution_count": null,
   "id": "418a894c-bfca-41d1-9862-5b81962ee9f7",
   "metadata": {},
   "outputs": [],
   "source": []
  }
 ],
 "metadata": {
  "kernelspec": {
   "display_name": "Python 3 (ipykernel)",
   "language": "python",
   "name": "python3"
  },
  "language_info": {
   "codemirror_mode": {
    "name": "ipython",
    "version": 3
   },
   "file_extension": ".py",
   "mimetype": "text/x-python",
   "name": "python",
   "nbconvert_exporter": "python",
   "pygments_lexer": "ipython3",
   "version": "3.12.4"
  }
 },
 "nbformat": 4,
 "nbformat_minor": 5
}
