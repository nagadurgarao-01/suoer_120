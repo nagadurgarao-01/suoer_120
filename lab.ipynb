{
 "cells": [
  {
   "cell_type": "code",
   "execution_count": null,
   "id": "4a8b3e20-9cdb-453f-8d5b-3ae93671e5fe",
   "metadata": {},
   "outputs": [],
   "source": [
    "\"\"\"\n",
    "1. time complexity\n",
    "2.bit maniplication\n",
    "3.recursion(call stack) ex:subset sum , generate subset sum\n",
    "4.backtrack (pruing) purmutatoin ,nquee,glod search\n",
    "5.sorting (merge sort with invertoin) , quick sort \n",
    "6. counting sort , bucketsorting , rading sort ex:sort color \n",
    "7. binary search and first occurrence , last , ceil,floor,peak\n",
    "8 . aggressive cow \n",
    "9.two and three pointer - two sum -ii , three, four sum and container with most water\n",
    "10. sliding window trapping rain water\n",
    "11.hashing (open addersing , chaining) two sum \n",
    "12. rolling hash double hashing group anagram\n",
    "13.stack ,queue (stack with monotronic)\n",
    "14.linkedlist impletion , slow and fast alogrithm , detect cycle\n",
    "15. LRU ,merge k list, trie data structure\n",
    "16.Tree traversal,insertion , detction \n",
    "17. lowest common ansister\n",
    "18.heap (k largest element, ) insert , delete\n",
    "19.graph reperstion how create a graph DFS, BFS,CFS -- \n",
    "20 . algorithm bell man , floor wash\n",
    "21. graph tistall algorithm\n",
    "\"\"\""
   ]
  },
  {
   "cell_type": "code",
   "execution_count": null,
   "id": "594eee31-eede-41c0-a86c-5909c8936ae2",
   "metadata": {},
   "outputs": [],
   "source": [
    "weights = [1,2,3,4,5,6,7,8,9,10]\n",
    "days = 5\n",
    "l = max(weights)\n",
    "r = sum(weights)\n",
    "ans =0\n",
    "while l <r:\n",
    "    mid = (l+r)/2\n",
    "    if checker(mid,days,weights):\n",
    "        r = mid + 1\n",
    "        ans = mid\n",
    "    else:\n",
    "        l = mid -1\n",
    "print(ans)\n",
    "def checker(min_capacity,days,weights):\n",
    "    weight ,days = 0,1\n",
    "    for w in weights:\n",
    "        if weight+ w > days:\n",
    "            "
   ]
  },
  {
   "cell_type": "code",
   "execution_count": 1,
   "id": "08b7e150-4aca-4f86-be85-800c86d177fa",
   "metadata": {},
   "outputs": [
    {
     "name": "stdin",
     "output_type": "stream",
     "text": [
      " 2 3 4\n"
     ]
    },
    {
     "name": "stdout",
     "output_type": "stream",
     "text": [
      "2 <-> 3 <-> 4 <-> None\n"
     ]
    }
   ],
   "source": [
    "class Node:\n",
    "    def __init__(self, data):\n",
    "        self.data = data\n",
    "        self.next = None\n",
    "        self.prev = None\n",
    "\n",
    "class DoubleLinkedList:\n",
    "    def __init__(self):\n",
    "        self.head = None\n",
    "        self.tail = None\n",
    "\n",
    "    def insert(self, data):\n",
    "        new_node = Node(data)\n",
    "        if self.head is None:\n",
    "            self.head = new_node\n",
    "            self.tail = new_node\n",
    "        else:\n",
    "            self.tail.next = new_node\n",
    "            new_node.prev = self.tail\n",
    "            self.tail = new_node\n",
    "\n",
    "    def display(self):\n",
    "        current_node = self.head\n",
    "        while current_node:\n",
    "            print(current_node.data, end=\" <-> \")\n",
    "            current_node = current_node.next\n",
    "        print(\"None\")\n",
    "\n",
    "\n",
    "dll = DoubleLinkedList()\n",
    "dll = DoubleLinkedList()\n",
    "user_input = input().split()\n",
    "\n",
    "for val in user_input:\n",
    "    if val.lower() == \"null\":\n",
    "        dll.insert(None) \n",
    "    else:\n",
    "        dll.insert(int(val))\n",
    "\n",
    "dll.display()\n"
   ]
  },
  {
   "cell_type": "code",
   "execution_count": 5,
   "id": "510fec32-91dc-4e77-b22f-40e8b65a9f8a",
   "metadata": {},
   "outputs": [
    {
     "name": "stdin",
     "output_type": "stream",
     "text": [
      " 2 3 4 45  6  6 6 6\n"
     ]
    },
    {
     "name": "stdout",
     "output_type": "stream",
     "text": [
      "2 -> 3 -> 4 -> 45 -> 6 -> 6 -> 6 -> 6 -> None\n"
     ]
    }
   ],
   "source": [
    "class Node:\n",
    "    def __init__(self, data):\n",
    "        self.data = data\n",
    "        self.next = None\n",
    "class linkedList:\n",
    "    def __init__(self):\n",
    "        self.head = None\n",
    "\n",
    "    def insert(self, data):\n",
    "        new_node = Node(data)\n",
    "        if self.head is None:\n",
    "            self.head = new_node\n",
    "        else:\n",
    "            cur  = self.head\n",
    "            while cur.next:\n",
    "                cur = cur.next\n",
    "            cur.next = new_node\n",
    "\n",
    "    def display(self):\n",
    "        current_node = self.head\n",
    "        while current_node:\n",
    "            print(current_node.data, end=\" -> \")\n",
    "            current_node = current_node.next\n",
    "        print(\"None\")\n",
    "\n",
    "ll = linkedList()\n",
    "user_input = list(map(int,input().split()))\n",
    "for num in user_input:\n",
    "    ll.insert(num)\n",
    "ll.display()"
   ]
  },
  {
   "cell_type": "code",
   "execution_count": 10,
   "id": "705bc7d2-8a1c-4148-8d0a-7121723ad373",
   "metadata": {},
   "outputs": [
    {
     "name": "stdin",
     "output_type": "stream",
     "text": [
      " flow flower\n"
     ]
    },
    {
     "name": "stdout",
     "output_type": "stream",
     "text": [
      "flow\n"
     ]
    }
   ],
   "source": [
    "user_input = input()\n",
    "strs = user_input.split()\n",
    "if not strs or not strs[0]:\n",
    "    longest_prefix = \"\"\n",
    "else:\n",
    "    longest_prefix = strs[0]\n",
    "    for i in range(1, len(strs)):\n",
    "        current_str = strs[i]\n",
    "        while not current_str.startswith(longest_prefix):\n",
    "            longest_prefix = longest_prefix[:-1]\n",
    "            if not longest_prefix:\n",
    "                break\n",
    "                \n",
    "print(longest_prefix)"
   ]
  },
  {
   "cell_type": "code",
   "execution_count": 4,
   "id": "9bb67357-316b-4faf-83a5-4fec4856a2ba",
   "metadata": {},
   "outputs": [
    {
     "name": "stdin",
     "output_type": "stream",
     "text": [
      "Enter numbers:  2 3 44 5\n"
     ]
    },
    {
     "name": "stdout",
     "output_type": "stream",
     "text": [
      "2 -> 3 -> 44 -> 5 -> None\n"
     ]
    }
   ],
   "source": [
    "class Node:\n",
    "    def __init__(self, data):\n",
    "        self.data = data\n",
    "        self.next = None\n",
    "\n",
    "class LinkedList:\n",
    "    def __init__(self):\n",
    "        self.head = None\n",
    "\n",
    "    def insert(self, data):\n",
    "        new_node = Node(data)\n",
    "        if self.head is None:\n",
    "            self.head = new_node\n",
    "        else:\n",
    "            cur = self.head\n",
    "            while cur.next:\n",
    "                cur = cur.next\n",
    "            cur.next = new_node\n",
    "\n",
    "    def display(self):\n",
    "        current_node = self.head\n",
    "        while current_node:\n",
    "            print(current_node.data, end=\" -> \")\n",
    "            current_node = current_node.next\n",
    "        print(\"None\")\n",
    "\n",
    "\n",
    "ll = LinkedList()\n",
    "user_input = list(map(int, input(\"Enter numbers: \").split()))\n",
    "\n",
    "# Insert each input value into linked list\n",
    "for num in user_input:\n",
    "    ll.insert(num)\n",
    "\n",
    "# Display linked list\n",
    "ll.display()\n"
   ]
  },
  {
   "cell_type": "code",
   "execution_count": null,
   "id": "cb7e57de-af73-477f-b1ec-c741073dd9dc",
   "metadata": {},
   "outputs": [],
   "source": []
  }
 ],
 "metadata": {
  "kernelspec": {
   "display_name": "Python 3 (ipykernel)",
   "language": "python",
   "name": "python3"
  },
  "language_info": {
   "codemirror_mode": {
    "name": "ipython",
    "version": 3
   },
   "file_extension": ".py",
   "mimetype": "text/x-python",
   "name": "python",
   "nbconvert_exporter": "python",
   "pygments_lexer": "ipython3",
   "version": "3.12.4"
  }
 },
 "nbformat": 4,
 "nbformat_minor": 5
}
