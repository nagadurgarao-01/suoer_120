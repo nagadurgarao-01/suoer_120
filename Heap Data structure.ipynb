{
 "cells": [
  {
   "cell_type": "code",
   "execution_count": 22,
   "id": "c7016b5a-d5b6-4631-8e89-309897392ca1",
   "metadata": {},
   "outputs": [
    {
     "name": "stdout",
     "output_type": "stream",
     "text": [
      "[4, 6, 5, 22, 88, 9]\n",
      "[3, 6, 4, 22, 88, 9, 5]\n",
      "[4, 6, 5, 22, 88, 9]\n",
      "[4, 5, 6]\n",
      "[88, 22, 9, 6, 5, 4]\n"
     ]
    }
   ],
   "source": [
    "import heapq\n",
    "arr = [22,4,5,6,88,9]\n",
    "heapq.heapify(arr)\n",
    "print(arr)\n",
    "heapq.heappush(arr,3)\n",
    "print(arr)\n",
    "heapq.heappop(arr)\n",
    "print(arr)\n",
    "print(heapq.nsmallest(3,arr))\n",
    "print(heapq.nlargest(10,arr))"
   ]
  },
  {
   "cell_type": "code",
   "execution_count": 26,
   "id": "39ecb336-c907-4450-8015-3a5dd932d696",
   "metadata": {},
   "outputs": [
    {
     "name": "stdout",
     "output_type": "stream",
     "text": [
      "[-4, -6, -5, -22, -88, -9]\n",
      "[-88, -22, -9, -4, -6, -5]\n"
     ]
    }
   ],
   "source": [
    "n = [-i for i in arr]\n",
    "print(n)\n",
    "heapq.heapify(n)\n",
    "print(n)"
   ]
  },
  {
   "cell_type": "code",
   "execution_count": null,
   "id": "0536a3c9-1347-4923-9cf6-bd27b659022f",
   "metadata": {},
   "outputs": [],
   "source": []
  }
 ],
 "metadata": {
  "kernelspec": {
   "display_name": "Python 3 (ipykernel)",
   "language": "python",
   "name": "python3"
  },
  "language_info": {
   "codemirror_mode": {
    "name": "ipython",
    "version": 3
   },
   "file_extension": ".py",
   "mimetype": "text/x-python",
   "name": "python",
   "nbconvert_exporter": "python",
   "pygments_lexer": "ipython3",
   "version": "3.12.4"
  }
 },
 "nbformat": 4,
 "nbformat_minor": 5
}
