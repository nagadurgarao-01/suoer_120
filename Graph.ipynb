{
 "cells": [
  {
   "cell_type": "code",
   "execution_count": 6,
   "id": "c9a6ae06-3d36-4620-8dec-34e84b637ef6",
   "metadata": {},
   "outputs": [
    {
     "data": {
      "text/plain": [
       "{'R': ['k', 's'], 'k': ['R', 's'], 's': ['R', 'k', 'p'], 'p': ['s']}"
      ]
     },
     "execution_count": 6,
     "metadata": {},
     "output_type": "execute_result"
    }
   ],
   "source": [
    "# undirected graph\n",
    "class Graph:\n",
    "    def __init__(self):\n",
    "        self.graph = {}\n",
    "    def insert(self,u,v):\n",
    "        for i in range(2):\n",
    "            if u in self.graph:\n",
    "                self.graph[u].append(v)\n",
    "            else:\n",
    "                self.graph[u] = [v]\n",
    "            u,v = v,u\n",
    "g = Graph()\n",
    "g.insert(\"R\", \"k\")\n",
    "g.insert(\"R\", \"s\")\n",
    "g.insert(\"k\", \"s\")\n",
    "g.insert(\"s\", \"p\")\n",
    "g.graph"
   ]
  },
  {
   "cell_type": "code",
   "execution_count": 11,
   "id": "9d3e16d0-8cf1-455a-975c-e77387c95732",
   "metadata": {},
   "outputs": [
    {
     "data": {
      "text/plain": [
       "{'R': ['k', 's'], 'k': ['s'], 's': ['p']}"
      ]
     },
     "execution_count": 11,
     "metadata": {},
     "output_type": "execute_result"
    }
   ],
   "source": [
    "# directed graph\n",
    "class Graph:\n",
    "    def __init__(self):\n",
    "        self.graph = {}\n",
    "    def insert(self,u,v):\n",
    "            if u in self.graph:\n",
    "                self.graph[u].append(v)\n",
    "            else:\n",
    "                self.graph[u] = [v]\n",
    "g = Graph()\n",
    "g.insert(\"R\", \"k\")\n",
    "g.insert(\"R\", \"s\")\n",
    "g.insert(\"k\", \"s\")\n",
    "g.insert(\"s\", \"p\")\n",
    "g.graph"
   ]
  },
  {
   "cell_type": "code",
   "execution_count": 4,
   "id": "a382df57-1a49-436a-a2e5-b0573b867e8e",
   "metadata": {},
   "outputs": [
    {
     "name": "stdout",
     "output_type": "stream",
     "text": [
      "[[0, 1, 1, 0], [1, 0, 1, 0], [1, 1, 0, 1], [0, 0, 1, 0]]\n"
     ]
    }
   ],
   "source": [
    "# adjacent matric\n",
    "class Graph:\n",
    "    def __init__(self,s):\n",
    "        self.graph = [[0]*s for i in range(s)]\n",
    "        self.dic = {\"R\" :0, \"k\":1,\"s\":2,\"p\":3}\n",
    "    def insert(self,u,v):\n",
    "        u_index , v_index = self.dic[u] ,self.dic[v]\n",
    "        self.graph[u_index][v_index] =1\n",
    "        self.graph[v_index][u_index] =1\n",
    "g = Graph(4)\n",
    "g.insert(\"R\", \"k\")\n",
    "g.insert(\"R\", \"s\")\n",
    "g.insert(\"k\", \"s\")\n",
    "g.insert(\"s\", \"p\")\n",
    "print(g.graph)"
   ]
  },
  {
   "cell_type": "code",
   "execution_count": 24,
   "id": "61bb7445-6b6a-4f7b-bf96-81a10cca66f6",
   "metadata": {},
   "outputs": [
    {
     "data": {
      "text/plain": [
       "{1: [(0, 45), (2, 14)],\n",
       " 0: [(1, 45)],\n",
       " 2: [(1, 14), (7, 30), (8, 30), (7, 90)],\n",
       " 7: [(2, 30), (2, 90)],\n",
       " 8: [(2, 30), (9, 78)],\n",
       " 9: [(8, 78)]}"
      ]
     },
     "execution_count": 24,
     "metadata": {},
     "output_type": "execute_result"
    }
   ],
   "source": [
    "#weighted graph\n",
    "class Graph:\n",
    "    def __init__(self):\n",
    "        self.graph = {}\n",
    "    def insert(self,u,v,w):\n",
    "        for i in range(2):\n",
    "            if u in self.graph:\n",
    "                self.graph[u].append((v,w))\n",
    "            else:\n",
    "                self.graph[u] = [(v,w)]\n",
    "            u,v = v,u\n",
    "g = Graph()\n",
    "g.insert(1, 0,45)\n",
    "g.insert(1, 2,14)\n",
    "g.insert(2, 7,30)\n",
    "g.insert(2, 8,30)\n",
    "g.insert(8, 9,78)\n",
    "g.insert(2, 7,90)\n",
    "g.graph"
   ]
  },
  {
   "cell_type": "code",
   "execution_count": 14,
   "id": "87cb3a92-ad6c-4b35-b496-0bb6e26c2a7c",
   "metadata": {},
   "outputs": [
    {
     "name": "stdout",
     "output_type": "stream",
     "text": [
      "{'A': ['B', 'p'], 'B': ['A', 'C', 'K'], 'p': ['A', 'G'], 'C': ['B', 'T'], 'K': ['B', 'T'], 'G': ['p'], 'T': ['C', 'K']}\n",
      "['A', 'B', 'p', 'C', 'K', 'G', 'T']\n"
     ]
    }
   ],
   "source": [
    "#BFS\n",
    "class Graph:\n",
    "    def __init__(self):\n",
    "        self.graph = {}\n",
    "    def insert(self,u,v):\n",
    "        for i in range(2):\n",
    "            if u in self.graph:\n",
    "                self.graph[u].append(v)\n",
    "            else:\n",
    "                self.graph[u]= [v]\n",
    "            u,v = v,u\n",
    "    def bsf(self,graph,strat):\n",
    "        self.visted = []\n",
    "        q = [strat]\n",
    "        while q:\n",
    "            cur = q.pop(0)\n",
    "            if cur  not in self.visted:\n",
    "                self.visted.append(cur)\n",
    "                q.extend(self.graph[cur])\n",
    "                \n",
    "g = Graph()\n",
    "g.insert(\"A\",\"B\")\n",
    "g.insert(\"A\",\"p\")\n",
    "g.insert(\"B\",\"C\")\n",
    "g.insert(\"B\",\"K\")\n",
    "g.insert(\"p\",\"G\")\n",
    "g.insert(\"C\",\"T\")\n",
    "g.insert(\"K\",\"T\")\n",
    "g.bsf(g.graph,\"A\")\n",
    "print(g.graph)\n",
    "print(g.visted)"
   ]
  },
  {
   "cell_type": "code",
   "execution_count": 15,
   "id": "a6116eaf-9b76-43e1-90c3-2f9db31c416b",
   "metadata": {},
   "outputs": [
    {
     "name": "stdout",
     "output_type": "stream",
     "text": [
      "{'A': ['B', 'p'], 'B': ['A', 'C', 'K'], 'p': ['A', 'G'], 'C': ['B', 'T'], 'K': ['B', 'T'], 'G': ['p'], 'T': ['C', 'K']}\n",
      "['A', 'p', 'G', 'B', 'K', 'T', 'C']\n"
     ]
    }
   ],
   "source": [
    "#DFS\n",
    "class Graph:\n",
    "    def __init__(self):\n",
    "        self.graph = {}\n",
    "    def insert(self,u,v):\n",
    "        for i in range(2):\n",
    "            if u in self.graph:\n",
    "                self.graph[u].append(v)\n",
    "            else:\n",
    "                self.graph[u]= [v]\n",
    "            u,v = v,u\n",
    "    def bsf(self,graph,strat):\n",
    "        self.visted = []\n",
    "        s = [strat]\n",
    "        while s:\n",
    "            cur = s.pop()\n",
    "            if cur  not in self.visted:\n",
    "                self.visted.append(cur)\n",
    "                s.extend(self.graph[cur])\n",
    "                \n",
    "g = Graph()\n",
    "g.insert(\"A\",\"B\")\n",
    "g.insert(\"A\",\"p\")\n",
    "g.insert(\"B\",\"C\")\n",
    "g.insert(\"B\",\"K\")\n",
    "g.insert(\"p\",\"G\")\n",
    "g.insert(\"C\",\"T\")\n",
    "g.insert(\"K\",\"T\")\n",
    "g.bsf(g.graph,\"A\")\n",
    "print(g.graph)\n",
    "print(g.visted)"
   ]
  },
  {
   "cell_type": "code",
   "execution_count": 35,
   "id": "d27f20cd-7bce-4cb2-94ba-164e2a6db2f3",
   "metadata": {},
   "outputs": [
    {
     "name": "stdout",
     "output_type": "stream",
     "text": [
      "[[0, 1, 1, 0], [1, 0, 1, 0], [1, 1, 0, 1], [0, 0, 1, 0]]\n",
      "['R', 'k', 's', 'p']\n"
     ]
    }
   ],
   "source": [
    "# Bfs using adjacent matrix\n",
    "class Graph:\n",
    "    def __init__(self,s):\n",
    "        self.graph = [[0]*s for i in range(s)]\n",
    "        self.dic = {\"R\" :0, \"k\":1,\"s\":2,\"p\":3}\n",
    "    def insert(self,u,v):\n",
    "        u_index , v_index = self.dic[u] ,self.dic[v]\n",
    "        self.graph[u_index][v_index] =1\n",
    "        self.graph[v_index][u_index] =1\n",
    "    def bsf(self,graph,strat):\n",
    "        self.visted = []\n",
    "        q = [strat]\n",
    "        while q:\n",
    "            cur = q.pop(0)\n",
    "            if cur not in self.visted:\n",
    "                self.visted.append(cur)\n",
    "                cur_index = self.dic[cur]\n",
    "                for v,i in self.dic.items():\n",
    "                    if self.graph[cur_index][i] ==1:\n",
    "                        q.append(v)\n",
    "            \n",
    "g = Graph(4)\n",
    "g.insert(\"R\", \"k\")\n",
    "g.insert(\"R\", \"s\")\n",
    "g.insert(\"k\", \"s\")\n",
    "g.insert(\"s\", \"p\")\n",
    "print(g.graph)\n",
    "g.bsf(g.graph,\"R\")\n",
    "print(g.visted)"
   ]
  },
  {
   "cell_type": "code",
   "execution_count": 46,
   "id": "891aa9f4-612e-4b91-872a-7877306ccd0b",
   "metadata": {},
   "outputs": [
    {
     "name": "stdout",
     "output_type": "stream",
     "text": [
      "[[0, 1, 1, 0], [1, 0, 1, 0], [1, 1, 0, 1], [0, 0, 1, 0]]\n",
      "['R', 's', 'p', 'k']\n"
     ]
    }
   ],
   "source": [
    "# DFS using adjacent matrix\n",
    "class Graph:\n",
    "    def __init__(self,s):\n",
    "        self.graph = [[0]*s for i in range(s)]\n",
    "        self.dic = {\"R\" :0, \"k\":1,\"s\":2,\"p\":3}\n",
    "    def insert(self,u,v):\n",
    "        u_index , v_index = self.dic[u] ,self.dic[v]\n",
    "        self.graph[u_index][v_index] =1\n",
    "        self.graph[v_index][u_index] =1\n",
    "    def bsf(self,graph,strat):\n",
    "        self.visted = []\n",
    "        s = [strat]\n",
    "        while s:\n",
    "            cur = s.pop()\n",
    "            if cur not in self.visted:\n",
    "                self.visted.append(cur)\n",
    "                cur_index = self.dic[cur]\n",
    "                for v,i in self.dic.items():\n",
    "                    if self.graph[cur_index][i] ==1:\n",
    "                        s.append(v)\n",
    "            \n",
    "g = Graph(4)\n",
    "g.insert(\"R\", \"k\")\n",
    "g.insert(\"R\", \"s\")\n",
    "g.insert(\"k\", \"s\")\n",
    "g.insert(\"s\", \"p\")\n",
    "print(g.graph)\n",
    "g.bsf(g.graph,\"R\")\n",
    "print(g.visted)"
   ]
  },
  {
   "cell_type": "code",
   "execution_count": 5,
   "id": "3209b50c-3923-4804-81e4-b43ca2ef55aa",
   "metadata": {},
   "outputs": [
    {
     "name": "stdout",
     "output_type": "stream",
     "text": [
      "{'A': ['B', 'C'], 'B': ['A'], 'C': ['A'], 'D': [''], '': ['D'], 'E': ['F'], 'F': ['E'], 'P': ['Q'], 'Q': ['P']}\n",
      "['A', 'B', 'C', 'D', '', 'E', 'F', 'P', 'Q']\n",
      "4\n"
     ]
    }
   ],
   "source": [
    "#connected components\n",
    "class Graph:\n",
    "    def __init__(self):\n",
    "        self.graph = {}\n",
    "        self.count = 0\n",
    "        self.visited = []\n",
    "\n",
    "    def insert(self, u, v):\n",
    "        for _ in range(2):\n",
    "            if u in self.graph:\n",
    "                self.graph[u].append(v)\n",
    "            else:\n",
    "                self.graph[u] = [v]\n",
    "            u, v = v, u\n",
    "\n",
    "    def bfs(self,strat):\n",
    "         q = [strat]\n",
    "         while q:\n",
    "            cur = q.pop(0)\n",
    "            if cur  not in self.visited:\n",
    "                self.visited.append(cur)\n",
    "                q.extend(self.graph[cur])\n",
    "\n",
    "    def find_connected_components(self):\n",
    "        for node in self.graph.keys():\n",
    "            if node not in self.visited:\n",
    "                self.bfs(node)\n",
    "                self.count += 1\n",
    "g = Graph()\n",
    "g.insert(\"A\",\"B\")\n",
    "g.insert(\"A\",\"C\")\n",
    "g.insert(\"D\",\"\")\n",
    "g.insert(\"E\",\"F\")\n",
    "g.insert(\"P\",\"Q\")\n",
    "print(g.graph)\n",
    "g.find_connected_components()\n",
    "print(g.visited)\n",
    "print(g.count)"
   ]
  },
  {
   "cell_type": "code",
   "execution_count": 35,
   "id": "27ae8dd1-e972-42ac-a125-19ee8cb9c332",
   "metadata": {},
   "outputs": [
    {
     "name": "stdout",
     "output_type": "stream",
     "text": [
      "{0: [], 1: []}\n"
     ]
    }
   ],
   "source": [
    "numCourses = 2\n",
    "class Graph:\n",
    "    def __init__(self):\n",
    "        self.graph = {i:[] for i in range(numCourses)}\n",
    "        self.count = 0\n",
    "        self.visited = []\n",
    "\n",
    "    def insert(self, b):\n",
    "        u,v = b[0],b[1]\n",
    "        if u in self.graph:\n",
    "            self.graph[u].append(v)\n",
    "        else:\n",
    "            self.graph[u] = [v]\n",
    "g = Graph()\n",
    "print(g.graph)"
   ]
  },
  {
   "cell_type": "code",
   "execution_count": 36,
   "id": "d9d63a81-4de8-4eea-9315-17abc9c833e6",
   "metadata": {},
   "outputs": [
    {
     "name": "stdout",
     "output_type": "stream",
     "text": [
      "{0: [], 1: [0]}\n"
     ]
    }
   ],
   "source": [
    "prerequisites = [[1,0]]\n",
    "def canFinish(numCourses, prerequisites):\n",
    "    for i in prerequisites:\n",
    "        g.insert(i)\n",
    "canFinish(numCourses, prerequisites)\n",
    "print(g.graph)"
   ]
  },
  {
   "cell_type": "code",
   "execution_count": null,
   "id": "8926116d-6e44-4230-88a7-3492125973c2",
   "metadata": {},
   "outputs": [],
   "source": []
  }
 ],
 "metadata": {
  "kernelspec": {
   "display_name": "Python 3 (ipykernel)",
   "language": "python",
   "name": "python3"
  },
  "language_info": {
   "codemirror_mode": {
    "name": "ipython",
    "version": 3
   },
   "file_extension": ".py",
   "mimetype": "text/x-python",
   "name": "python",
   "nbconvert_exporter": "python",
   "pygments_lexer": "ipython3",
   "version": "3.12.4"
  }
 },
 "nbformat": 4,
 "nbformat_minor": 5
}
