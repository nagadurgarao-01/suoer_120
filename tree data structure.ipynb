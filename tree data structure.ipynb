{
 "cells": [
  {
   "cell_type": "code",
   "execution_count": 2,
   "id": "19de6182-5400-4129-b987-85c953b21647",
   "metadata": {},
   "outputs": [],
   "source": [
    "class  Node:\n",
    "    def __init__(self,data):\n",
    "        self.val = data\n",
    "        self.left = self.right =None"
   ]
  },
  {
   "cell_type": "code",
   "execution_count": 18,
   "id": "68bd58b5-d0ee-4c50-9248-03200d750c6a",
   "metadata": {},
   "outputs": [],
   "source": [
    "root = Node(5)\n",
    "root.left = Node(3)\n",
    "root.right = Node(9)\n",
    "root.left.left  = Node(1)\n",
    "root.left.right  = Node(4)\n",
    "root.left.right.left = Node(11)\n",
    "root.right.left  = Node(7)\n",
    "root.right.right  = Node(0)"
   ]
  },
  {
   "cell_type": "code",
   "execution_count": 17,
   "id": "74bd8d1d-80cd-42d6-a841-5abc0fce1ae5",
   "metadata": {},
   "outputs": [
    {
     "name": "stdout",
     "output_type": "stream",
     "text": [
      "0\n"
     ]
    }
   ],
   "source": [
    "print(root.right.right.val)"
   ]
  },
  {
   "cell_type": "code",
   "execution_count": 16,
   "id": "38b3f115-5dd3-4db1-af95-d27a8ee55662",
   "metadata": {},
   "outputs": [],
   "source": [
    "inorder - left - root - right\n",
    "postorder - left - right - root\n",
    "preorder - root - left - right"
   ]
  },
  {
   "cell_type": "code",
   "execution_count": 20,
   "id": "b91ff79f-cc69-4068-8789-240ae8dbf58d",
   "metadata": {},
   "outputs": [
    {
     "name": "stdout",
     "output_type": "stream",
     "text": [
      "1 3 11 4 5 7 9 0 "
     ]
    }
   ],
   "source": [
    "def inorder_traversal(root):\n",
    "    if root:\n",
    "        inorder_traversal(root.left)\n",
    "        print(root.val , end = \" \")\n",
    "        inorder_traversal(root.right)\n",
    "inorder_traversal(root)"
   ]
  },
  {
   "cell_type": "code",
   "execution_count": 22,
   "id": "f105e2b2-6b41-4806-a150-aa0a529b4d8d",
   "metadata": {},
   "outputs": [
    {
     "name": "stdout",
     "output_type": "stream",
     "text": [
      "1 11 4 3 7 0 9 5 "
     ]
    }
   ],
   "source": [
    "def postorder_traversal(root):\n",
    "    if root:\n",
    "        postorder_traversal(root.left)\n",
    "        postorder_traversal(root.right)\n",
    "        print(root.val , end = \" \")\n",
    "postorder_traversal(root)"
   ]
  },
  {
   "cell_type": "code",
   "execution_count": 23,
   "id": "a8674be5-0ebf-4865-8114-86360d391532",
   "metadata": {},
   "outputs": [
    {
     "name": "stdout",
     "output_type": "stream",
     "text": [
      "5 3 1 4 11 9 7 0 "
     ]
    }
   ],
   "source": [
    "def preorder_traversal(root):\n",
    "    if root:\n",
    "        print(root.val , end = \" \")\n",
    "        preorder_traversal(root.left)\n",
    "        preorder_traversal(root.right)\n",
    "preorder_traversal(root)"
   ]
  },
  {
   "cell_type": "code",
   "execution_count": 27,
   "id": "3e835f63-22b4-485c-b1bc-2ab4535e67ec",
   "metadata": {},
   "outputs": [],
   "source": [
    "class  Node:\n",
    "    def __init__(self,data):\n",
    "        self.val = data\n",
    "        self.left = self.right =None"
   ]
  },
  {
   "cell_type": "code",
   "execution_count": 34,
   "id": "387c1b19-1ae2-404a-a7cd-80e2c278de35",
   "metadata": {
    "scrolled": true
   },
   "outputs": [
    {
     "name": "stdout",
     "output_type": "stream",
     "text": [
      "inorder\n",
      "3 3 4 5 6 7 7 8 9 10 "
     ]
    }
   ],
   "source": [
    "class  BST:\n",
    "    def __init__(self):\n",
    "        self.root = None\n",
    "    def insert(self ,root,data):\n",
    "        if root is None:\n",
    "            return Node(data)\n",
    "        if data < root.val:\n",
    "            root.left = self.insert(root.left,data)\n",
    "        else:\n",
    "            root.right = self.insert(root.right , data)\n",
    "        return root\n",
    "    def inorder_traversal(self,root):\n",
    "        if root:\n",
    "            self.inorder_traversal(root.left)\n",
    "            print(root.val , end = \" \")\n",
    "            self.inorder_traversal(root.right)\n",
    "a = [10,4,3,5,6,7,8,3,9,7]\n",
    "obj = BST()\n",
    "for i in a:\n",
    "    obj.root = obj.insert(obj.root,i)\n",
    "print(\"inorder\")\n",
    "inorder_traversal(obj.root)    "
   ]
  },
  {
   "cell_type": "code",
   "execution_count": null,
   "id": "49696959-553d-4dff-bb43-e0eedfe99043",
   "metadata": {},
   "outputs": [],
   "source": []
  }
 ],
 "metadata": {
  "kernelspec": {
   "display_name": "Python 3 (ipykernel)",
   "language": "python",
   "name": "python3"
  },
  "language_info": {
   "codemirror_mode": {
    "name": "ipython",
    "version": 3
   },
   "file_extension": ".py",
   "mimetype": "text/x-python",
   "name": "python",
   "nbconvert_exporter": "python",
   "pygments_lexer": "ipython3",
   "version": "3.12.4"
  }
 },
 "nbformat": 4,
 "nbformat_minor": 5
}
